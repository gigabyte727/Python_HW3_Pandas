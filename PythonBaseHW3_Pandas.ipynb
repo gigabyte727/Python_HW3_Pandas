{
 "cells": [
  {
   "cell_type": "markdown",
   "metadata": {},
   "source": [
    "# Задание 3. Pandas (HW)\n",
    "### Используя библиотеку pandas (или аналоги), проанализировать как можно больше характеристик, влияющих на успеваемость студентов.  \n",
    "Результат прислать в формате ссылки на Github с ноутбуком"
   ]
  },
  {
   "cell_type": "code",
   "execution_count": 23,
   "metadata": {},
   "outputs": [],
   "source": [
    "import numpy as np\n",
    "import pandas as pd\n",
    "import seaborn as sns\n",
    "import matplotlib.pyplot as plt"
   ]
  },
  {
   "cell_type": "markdown",
   "metadata": {},
   "source": [
    "## Анализ вспомогательных таблиц"
   ]
  },
  {
   "cell_type": "markdown",
   "metadata": {},
   "source": [
    "### lectures.csv : метаданные для лекций, просмотренных студентами по мере их обучения.\n",
    "\n",
    "**lecture_id**: внешний ключ для столбца content_type_id в train.csv, если тип контента - лекция (1).  \n",
    "**part**: раздел, к которому относится лекция.  \n",
    "**tag**: один тег для каждой лекции. Значения тегов не представлены, но их достаточно для кластеризации лекций.  \n",
    "**type_of**: краткое описание основной цели лекции."
   ]
  },
  {
   "cell_type": "code",
   "execution_count": 80,
   "metadata": {},
   "outputs": [
    {
     "data": {
      "text/plain": [
       "(418, 4)"
      ]
     },
     "execution_count": 80,
     "metadata": {},
     "output_type": "execute_result"
    }
   ],
   "source": [
    "lectures_df = pd.read_csv('data\\lectures.csv', encoding = 'utf-8')\n",
    "lectures_df.shape"
   ]
  },
  {
   "cell_type": "code",
   "execution_count": 25,
   "metadata": {},
   "outputs": [
    {
     "data": {
      "text/html": [
       "<div>\n",
       "<style scoped>\n",
       "    .dataframe tbody tr th:only-of-type {\n",
       "        vertical-align: middle;\n",
       "    }\n",
       "\n",
       "    .dataframe tbody tr th {\n",
       "        vertical-align: top;\n",
       "    }\n",
       "\n",
       "    .dataframe thead th {\n",
       "        text-align: right;\n",
       "    }\n",
       "</style>\n",
       "<table border=\"1\" class=\"dataframe\">\n",
       "  <thead>\n",
       "    <tr style=\"text-align: right;\">\n",
       "      <th></th>\n",
       "      <th>lecture_id</th>\n",
       "      <th>tag</th>\n",
       "      <th>part</th>\n",
       "      <th>type_of</th>\n",
       "    </tr>\n",
       "  </thead>\n",
       "  <tbody>\n",
       "    <tr>\n",
       "      <th>0</th>\n",
       "      <td>89</td>\n",
       "      <td>159</td>\n",
       "      <td>5</td>\n",
       "      <td>concept</td>\n",
       "    </tr>\n",
       "    <tr>\n",
       "      <th>1</th>\n",
       "      <td>100</td>\n",
       "      <td>70</td>\n",
       "      <td>1</td>\n",
       "      <td>concept</td>\n",
       "    </tr>\n",
       "    <tr>\n",
       "      <th>2</th>\n",
       "      <td>185</td>\n",
       "      <td>45</td>\n",
       "      <td>6</td>\n",
       "      <td>concept</td>\n",
       "    </tr>\n",
       "    <tr>\n",
       "      <th>3</th>\n",
       "      <td>192</td>\n",
       "      <td>79</td>\n",
       "      <td>5</td>\n",
       "      <td>solving question</td>\n",
       "    </tr>\n",
       "    <tr>\n",
       "      <th>4</th>\n",
       "      <td>317</td>\n",
       "      <td>156</td>\n",
       "      <td>5</td>\n",
       "      <td>solving question</td>\n",
       "    </tr>\n",
       "  </tbody>\n",
       "</table>\n",
       "</div>"
      ],
      "text/plain": [
       "   lecture_id  tag  part           type_of\n",
       "0          89  159     5           concept\n",
       "1         100   70     1           concept\n",
       "2         185   45     6           concept\n",
       "3         192   79     5  solving question\n",
       "4         317  156     5  solving question"
      ]
     },
     "execution_count": 25,
     "metadata": {},
     "output_type": "execute_result"
    }
   ],
   "source": [
    "lectures_df.head()"
   ]
  },
  {
   "cell_type": "markdown",
   "metadata": {},
   "source": [
    "##### Выводим статистику по числовым признакам датафрейма df_lectures c помощью метода .describe"
   ]
  },
  {
   "cell_type": "code",
   "execution_count": 26,
   "metadata": {},
   "outputs": [
    {
     "data": {
      "text/html": [
       "<div>\n",
       "<style scoped>\n",
       "    .dataframe tbody tr th:only-of-type {\n",
       "        vertical-align: middle;\n",
       "    }\n",
       "\n",
       "    .dataframe tbody tr th {\n",
       "        vertical-align: top;\n",
       "    }\n",
       "\n",
       "    .dataframe thead th {\n",
       "        text-align: right;\n",
       "    }\n",
       "</style>\n",
       "<table border=\"1\" class=\"dataframe\">\n",
       "  <thead>\n",
       "    <tr style=\"text-align: right;\">\n",
       "      <th></th>\n",
       "      <th>lecture_id</th>\n",
       "      <th>tag</th>\n",
       "      <th>part</th>\n",
       "    </tr>\n",
       "  </thead>\n",
       "  <tbody>\n",
       "    <tr>\n",
       "      <th>count</th>\n",
       "      <td>418.000000</td>\n",
       "      <td>418.000000</td>\n",
       "      <td>418.000000</td>\n",
       "    </tr>\n",
       "    <tr>\n",
       "      <th>mean</th>\n",
       "      <td>16983.401914</td>\n",
       "      <td>94.480861</td>\n",
       "      <td>4.267943</td>\n",
       "    </tr>\n",
       "    <tr>\n",
       "      <th>std</th>\n",
       "      <td>9426.164660</td>\n",
       "      <td>53.586487</td>\n",
       "      <td>1.872424</td>\n",
       "    </tr>\n",
       "    <tr>\n",
       "      <th>min</th>\n",
       "      <td>89.000000</td>\n",
       "      <td>0.000000</td>\n",
       "      <td>1.000000</td>\n",
       "    </tr>\n",
       "    <tr>\n",
       "      <th>25%</th>\n",
       "      <td>9026.250000</td>\n",
       "      <td>50.250000</td>\n",
       "      <td>2.000000</td>\n",
       "    </tr>\n",
       "    <tr>\n",
       "      <th>50%</th>\n",
       "      <td>17161.500000</td>\n",
       "      <td>94.500000</td>\n",
       "      <td>5.000000</td>\n",
       "    </tr>\n",
       "    <tr>\n",
       "      <th>75%</th>\n",
       "      <td>24906.250000</td>\n",
       "      <td>140.000000</td>\n",
       "      <td>6.000000</td>\n",
       "    </tr>\n",
       "    <tr>\n",
       "      <th>max</th>\n",
       "      <td>32736.000000</td>\n",
       "      <td>187.000000</td>\n",
       "      <td>7.000000</td>\n",
       "    </tr>\n",
       "  </tbody>\n",
       "</table>\n",
       "</div>"
      ],
      "text/plain": [
       "         lecture_id         tag        part\n",
       "count    418.000000  418.000000  418.000000\n",
       "mean   16983.401914   94.480861    4.267943\n",
       "std     9426.164660   53.586487    1.872424\n",
       "min       89.000000    0.000000    1.000000\n",
       "25%     9026.250000   50.250000    2.000000\n",
       "50%    17161.500000   94.500000    5.000000\n",
       "75%    24906.250000  140.000000    6.000000\n",
       "max    32736.000000  187.000000    7.000000"
      ]
     },
     "execution_count": 26,
     "metadata": {},
     "output_type": "execute_result"
    }
   ],
   "source": [
    "lectures_df.describe() "
   ]
  },
  {
   "cell_type": "markdown",
   "metadata": {},
   "source": [
    "##### Ищем пропуски в датафрейме df_lectures"
   ]
  },
  {
   "cell_type": "code",
   "execution_count": 27,
   "metadata": {},
   "outputs": [
    {
     "data": {
      "text/plain": [
       "lecture_id    0\n",
       "tag           0\n",
       "part          0\n",
       "type_of       0\n",
       "dtype: int64"
      ]
     },
     "execution_count": 27,
     "metadata": {},
     "output_type": "execute_result"
    }
   ],
   "source": [
    "lectures_df.isna().sum() "
   ]
  },
  {
   "cell_type": "markdown",
   "metadata": {},
   "source": [
    "##### Как мы можем увидеть пропуски в датафрейме student_df равны 0, то есть - отсутствуют\n",
    "\n",
    "##### Теперь перейдем к поиску дубликатов в нашем датафрейм"
   ]
  },
  {
   "cell_type": "code",
   "execution_count": 28,
   "metadata": {},
   "outputs": [
    {
     "data": {
      "text/plain": [
       "0"
      ]
     },
     "execution_count": 28,
     "metadata": {},
     "output_type": "execute_result"
    }
   ],
   "source": [
    "lectures_df.duplicated().sum()"
   ]
  },
  {
   "cell_type": "markdown",
   "metadata": {},
   "source": [
    "##### Выводим справку о кол-ве значений в каждом столбце и типе данных нашего датафрейма "
   ]
  },
  {
   "cell_type": "code",
   "execution_count": 29,
   "metadata": {},
   "outputs": [
    {
     "name": "stdout",
     "output_type": "stream",
     "text": [
      "<class 'pandas.core.frame.DataFrame'>\n",
      "RangeIndex: 418 entries, 0 to 417\n",
      "Data columns (total 4 columns):\n",
      " #   Column      Non-Null Count  Dtype \n",
      "---  ------      --------------  ----- \n",
      " 0   lecture_id  418 non-null    int64 \n",
      " 1   tag         418 non-null    int64 \n",
      " 2   part        418 non-null    int64 \n",
      " 3   type_of     418 non-null    object\n",
      "dtypes: int64(3), object(1)\n",
      "memory usage: 13.2+ KB\n"
     ]
    }
   ],
   "source": [
    "lectures_df.info()"
   ]
  },
  {
   "cell_type": "markdown",
   "metadata": {},
   "source": [
    "##### Выводим распеределение внешних ключей по различным разделам лекций"
   ]
  },
  {
   "cell_type": "code",
   "execution_count": 30,
   "metadata": {},
   "outputs": [
    {
     "data": {
      "text/html": [
       "<div>\n",
       "<style scoped>\n",
       "    .dataframe tbody tr th:only-of-type {\n",
       "        vertical-align: middle;\n",
       "    }\n",
       "\n",
       "    .dataframe tbody tr th {\n",
       "        vertical-align: top;\n",
       "    }\n",
       "\n",
       "    .dataframe thead th {\n",
       "        text-align: right;\n",
       "    }\n",
       "</style>\n",
       "<table border=\"1\" class=\"dataframe\">\n",
       "  <thead>\n",
       "    <tr style=\"text-align: right;\">\n",
       "      <th></th>\n",
       "      <th>type_of</th>\n",
       "      <th>part</th>\n",
       "      <th>lecture_id</th>\n",
       "    </tr>\n",
       "  </thead>\n",
       "  <tbody>\n",
       "    <tr>\n",
       "      <th>0</th>\n",
       "      <td>concept</td>\n",
       "      <td>1</td>\n",
       "      <td>20</td>\n",
       "    </tr>\n",
       "    <tr>\n",
       "      <th>1</th>\n",
       "      <td>concept</td>\n",
       "      <td>2</td>\n",
       "      <td>18</td>\n",
       "    </tr>\n",
       "    <tr>\n",
       "      <th>2</th>\n",
       "      <td>concept</td>\n",
       "      <td>3</td>\n",
       "      <td>7</td>\n",
       "    </tr>\n",
       "    <tr>\n",
       "      <th>3</th>\n",
       "      <td>concept</td>\n",
       "      <td>4</td>\n",
       "      <td>19</td>\n",
       "    </tr>\n",
       "    <tr>\n",
       "      <th>4</th>\n",
       "      <td>concept</td>\n",
       "      <td>5</td>\n",
       "      <td>72</td>\n",
       "    </tr>\n",
       "    <tr>\n",
       "      <th>5</th>\n",
       "      <td>concept</td>\n",
       "      <td>6</td>\n",
       "      <td>63</td>\n",
       "    </tr>\n",
       "    <tr>\n",
       "      <th>6</th>\n",
       "      <td>concept</td>\n",
       "      <td>7</td>\n",
       "      <td>23</td>\n",
       "    </tr>\n",
       "    <tr>\n",
       "      <th>7</th>\n",
       "      <td>intention</td>\n",
       "      <td>2</td>\n",
       "      <td>7</td>\n",
       "    </tr>\n",
       "    <tr>\n",
       "      <th>8</th>\n",
       "      <td>solving question</td>\n",
       "      <td>1</td>\n",
       "      <td>34</td>\n",
       "    </tr>\n",
       "    <tr>\n",
       "      <th>9</th>\n",
       "      <td>solving question</td>\n",
       "      <td>2</td>\n",
       "      <td>31</td>\n",
       "    </tr>\n",
       "    <tr>\n",
       "      <th>10</th>\n",
       "      <td>solving question</td>\n",
       "      <td>3</td>\n",
       "      <td>12</td>\n",
       "    </tr>\n",
       "    <tr>\n",
       "      <th>11</th>\n",
       "      <td>solving question</td>\n",
       "      <td>4</td>\n",
       "      <td>12</td>\n",
       "    </tr>\n",
       "    <tr>\n",
       "      <th>12</th>\n",
       "      <td>solving question</td>\n",
       "      <td>5</td>\n",
       "      <td>69</td>\n",
       "    </tr>\n",
       "    <tr>\n",
       "      <th>13</th>\n",
       "      <td>solving question</td>\n",
       "      <td>6</td>\n",
       "      <td>19</td>\n",
       "    </tr>\n",
       "    <tr>\n",
       "      <th>14</th>\n",
       "      <td>solving question</td>\n",
       "      <td>7</td>\n",
       "      <td>9</td>\n",
       "    </tr>\n",
       "    <tr>\n",
       "      <th>15</th>\n",
       "      <td>starter</td>\n",
       "      <td>5</td>\n",
       "      <td>2</td>\n",
       "    </tr>\n",
       "    <tr>\n",
       "      <th>16</th>\n",
       "      <td>starter</td>\n",
       "      <td>6</td>\n",
       "      <td>1</td>\n",
       "    </tr>\n",
       "  </tbody>\n",
       "</table>\n",
       "</div>"
      ],
      "text/plain": [
       "             type_of  part  lecture_id\n",
       "0            concept     1          20\n",
       "1            concept     2          18\n",
       "2            concept     3           7\n",
       "3            concept     4          19\n",
       "4            concept     5          72\n",
       "5            concept     6          63\n",
       "6            concept     7          23\n",
       "7          intention     2           7\n",
       "8   solving question     1          34\n",
       "9   solving question     2          31\n",
       "10  solving question     3          12\n",
       "11  solving question     4          12\n",
       "12  solving question     5          69\n",
       "13  solving question     6          19\n",
       "14  solving question     7           9\n",
       "15           starter     5           2\n",
       "16           starter     6           1"
      ]
     },
     "execution_count": 30,
     "metadata": {},
     "output_type": "execute_result"
    }
   ],
   "source": [
    "lectures_df[['type_of', 'part', 'lecture_id']].groupby(['type_of','part'], as_index = False).count().sort_values(by = ['type_of', 'part'])"
   ]
  },
  {
   "cell_type": "markdown",
   "metadata": {},
   "source": [
    "##### Выводим распеределение тегов и разделов"
   ]
  },
  {
   "cell_type": "code",
   "execution_count": 31,
   "metadata": {},
   "outputs": [
    {
     "data": {
      "text/plain": [
       "<AxesSubplot: xlabel='part', ylabel='tag'>"
      ]
     },
     "execution_count": 31,
     "metadata": {},
     "output_type": "execute_result"
    },
    {
     "data": {
      "image/png": "[encoded data removed]",
      "text/plain": [
       "<Figure size 640x480 with 1 Axes>"
      ]
     },
     "metadata": {},
     "output_type": "display_data"
    }
   ],
   "source": [
    "sns.scatterplot(data = lectures_df, x = 'part', y = 'tag', hue = 'type_of')"
   ]
  },
  {
   "cell_type": "code",
   "execution_count": 32,
   "metadata": {},
   "outputs": [
    {
     "data": {
      "text/plain": [
       "<AxesSubplot: xlabel='tag', ylabel='Count'>"
      ]
     },
     "execution_count": 32,
     "metadata": {},
     "output_type": "execute_result"
    },
    {
     "data": {
      "image/png": "[encoded data removed]",
      "text/plain": [
       "<Figure size 640x480 with 1 Axes>"
      ]
     },
     "metadata": {},
     "output_type": "display_data"
    }
   ],
   "source": [
    "sns.histplot(data = lectures_df, x = 'tag', hue = 'type_of')"
   ]
  },
  {
   "cell_type": "markdown",
   "metadata": {},
   "source": [
    "##### И видим что явной связи тегов и описаний лекций и нет вовсе"
   ]
  },
  {
   "cell_type": "markdown",
   "metadata": {},
   "source": [
    "##### Тыперь проанализируем связь разделов и описаний лекций"
   ]
  },
  {
   "cell_type": "code",
   "execution_count": 33,
   "metadata": {},
   "outputs": [
    {
     "data": {
      "text/plain": [
       "<AxesSubplot: xlabel='part', ylabel='Count'>"
      ]
     },
     "execution_count": 33,
     "metadata": {},
     "output_type": "execute_result"
    },
    {
     "data": {
      "image/png": "[encoded data removed]",
      "text/plain": [
       "<Figure size 640x480 with 1 Axes>"
      ]
     },
     "metadata": {},
     "output_type": "display_data"
    }
   ],
   "source": [
    "sns.histplot(data = lectures_df, x = 'part', hue = 'type_of', bins = 7)"
   ]
  },
  {
   "cell_type": "markdown",
   "metadata": {},
   "source": [
    "##### В итоге: в первых 3-х разделах больше практики, в остальных - теории"
   ]
  },
  {
   "cell_type": "markdown",
   "metadata": {},
   "source": [
    "### questions.csv : метаданные для заданных студентам вопросов.\n",
    "\n",
    "**question_id**: внешний ключ для столбца content_type_id в train.csv, если тип контента - вопрос (0).  \n",
    "**bundle_id**: идентификатор совместного набора вопросов.  \n",
    "**correct_answer**: правильный ответ на вопрос. Можно сравнить со столбцом user_answer в train.csv, чтобы проверить, верно ли ответил студент.  \n",
    "**part**: соответствующий раздел теста TOEIC.  \n",
    "**tags**: один или несколько подробных тегов для каждого вопроса. Значения тегов не представлены, но их достаточно для кластеризации вопросов."
   ]
  },
  {
   "cell_type": "code",
   "execution_count": 34,
   "metadata": {},
   "outputs": [
    {
     "data": {
      "text/plain": [
       "(13523, 5)"
      ]
     },
     "execution_count": 34,
     "metadata": {},
     "output_type": "execute_result"
    }
   ],
   "source": [
    "questions_df = pd.read_csv('data/questions.csv') \n",
    "questions_df.shape"
   ]
  },
  {
   "cell_type": "markdown",
   "metadata": {},
   "source": [
    "#### Выводим строки датафрейма questions_df c помощью метода .head"
   ]
  },
  {
   "cell_type": "code",
   "execution_count": 35,
   "metadata": {},
   "outputs": [
    {
     "data": {
      "text/html": [
       "<div>\n",
       "<style scoped>\n",
       "    .dataframe tbody tr th:only-of-type {\n",
       "        vertical-align: middle;\n",
       "    }\n",
       "\n",
       "    .dataframe tbody tr th {\n",
       "        vertical-align: top;\n",
       "    }\n",
       "\n",
       "    .dataframe thead th {\n",
       "        text-align: right;\n",
       "    }\n",
       "</style>\n",
       "<table border=\"1\" class=\"dataframe\">\n",
       "  <thead>\n",
       "    <tr style=\"text-align: right;\">\n",
       "      <th></th>\n",
       "      <th>question_id</th>\n",
       "      <th>bundle_id</th>\n",
       "      <th>correct_answer</th>\n",
       "      <th>part</th>\n",
       "      <th>tags</th>\n",
       "    </tr>\n",
       "  </thead>\n",
       "  <tbody>\n",
       "    <tr>\n",
       "      <th>0</th>\n",
       "      <td>0</td>\n",
       "      <td>0</td>\n",
       "      <td>0</td>\n",
       "      <td>1</td>\n",
       "      <td>51 131 162 38</td>\n",
       "    </tr>\n",
       "    <tr>\n",
       "      <th>1</th>\n",
       "      <td>1</td>\n",
       "      <td>1</td>\n",
       "      <td>1</td>\n",
       "      <td>1</td>\n",
       "      <td>131 36 81</td>\n",
       "    </tr>\n",
       "    <tr>\n",
       "      <th>2</th>\n",
       "      <td>2</td>\n",
       "      <td>2</td>\n",
       "      <td>0</td>\n",
       "      <td>1</td>\n",
       "      <td>131 101 162 92</td>\n",
       "    </tr>\n",
       "    <tr>\n",
       "      <th>3</th>\n",
       "      <td>3</td>\n",
       "      <td>3</td>\n",
       "      <td>0</td>\n",
       "      <td>1</td>\n",
       "      <td>131 149 162 29</td>\n",
       "    </tr>\n",
       "    <tr>\n",
       "      <th>4</th>\n",
       "      <td>4</td>\n",
       "      <td>4</td>\n",
       "      <td>3</td>\n",
       "      <td>1</td>\n",
       "      <td>131 5 162 38</td>\n",
       "    </tr>\n",
       "  </tbody>\n",
       "</table>\n",
       "</div>"
      ],
      "text/plain": [
       "   question_id  bundle_id  correct_answer  part            tags\n",
       "0            0          0               0     1   51 131 162 38\n",
       "1            1          1               1     1       131 36 81\n",
       "2            2          2               0     1  131 101 162 92\n",
       "3            3          3               0     1  131 149 162 29\n",
       "4            4          4               3     1    131 5 162 38"
      ]
     },
     "execution_count": 35,
     "metadata": {},
     "output_type": "execute_result"
    }
   ],
   "source": [
    "questions_df.head() "
   ]
  },
  {
   "cell_type": "code",
   "execution_count": 36,
   "metadata": {},
   "outputs": [
    {
     "data": {
      "text/html": [
       "<div>\n",
       "<style scoped>\n",
       "    .dataframe tbody tr th:only-of-type {\n",
       "        vertical-align: middle;\n",
       "    }\n",
       "\n",
       "    .dataframe tbody tr th {\n",
       "        vertical-align: top;\n",
       "    }\n",
       "\n",
       "    .dataframe thead th {\n",
       "        text-align: right;\n",
       "    }\n",
       "</style>\n",
       "<table border=\"1\" class=\"dataframe\">\n",
       "  <thead>\n",
       "    <tr style=\"text-align: right;\">\n",
       "      <th></th>\n",
       "      <th>question_id</th>\n",
       "      <th>bundle_id</th>\n",
       "      <th>correct_answer</th>\n",
       "      <th>part</th>\n",
       "    </tr>\n",
       "  </thead>\n",
       "  <tbody>\n",
       "    <tr>\n",
       "      <th>count</th>\n",
       "      <td>13523.00000</td>\n",
       "      <td>13523.000000</td>\n",
       "      <td>13523.000000</td>\n",
       "      <td>13523.000000</td>\n",
       "    </tr>\n",
       "    <tr>\n",
       "      <th>mean</th>\n",
       "      <td>6761.00000</td>\n",
       "      <td>6760.510907</td>\n",
       "      <td>1.455298</td>\n",
       "      <td>4.264956</td>\n",
       "    </tr>\n",
       "    <tr>\n",
       "      <th>std</th>\n",
       "      <td>3903.89818</td>\n",
       "      <td>3903.857783</td>\n",
       "      <td>1.149707</td>\n",
       "      <td>1.652553</td>\n",
       "    </tr>\n",
       "    <tr>\n",
       "      <th>min</th>\n",
       "      <td>0.00000</td>\n",
       "      <td>0.000000</td>\n",
       "      <td>0.000000</td>\n",
       "      <td>1.000000</td>\n",
       "    </tr>\n",
       "    <tr>\n",
       "      <th>25%</th>\n",
       "      <td>3380.50000</td>\n",
       "      <td>3379.500000</td>\n",
       "      <td>0.000000</td>\n",
       "      <td>3.000000</td>\n",
       "    </tr>\n",
       "    <tr>\n",
       "      <th>50%</th>\n",
       "      <td>6761.00000</td>\n",
       "      <td>6761.000000</td>\n",
       "      <td>1.000000</td>\n",
       "      <td>5.000000</td>\n",
       "    </tr>\n",
       "    <tr>\n",
       "      <th>75%</th>\n",
       "      <td>10141.50000</td>\n",
       "      <td>10140.000000</td>\n",
       "      <td>3.000000</td>\n",
       "      <td>5.000000</td>\n",
       "    </tr>\n",
       "    <tr>\n",
       "      <th>max</th>\n",
       "      <td>13522.00000</td>\n",
       "      <td>13522.000000</td>\n",
       "      <td>3.000000</td>\n",
       "      <td>7.000000</td>\n",
       "    </tr>\n",
       "  </tbody>\n",
       "</table>\n",
       "</div>"
      ],
      "text/plain": [
       "       question_id     bundle_id  correct_answer          part\n",
       "count  13523.00000  13523.000000    13523.000000  13523.000000\n",
       "mean    6761.00000   6760.510907        1.455298      4.264956\n",
       "std     3903.89818   3903.857783        1.149707      1.652553\n",
       "min        0.00000      0.000000        0.000000      1.000000\n",
       "25%     3380.50000   3379.500000        0.000000      3.000000\n",
       "50%     6761.00000   6761.000000        1.000000      5.000000\n",
       "75%    10141.50000  10140.000000        3.000000      5.000000\n",
       "max    13522.00000  13522.000000        3.000000      7.000000"
      ]
     },
     "execution_count": 36,
     "metadata": {},
     "output_type": "execute_result"
    }
   ],
   "source": [
    "questions_df.describe()"
   ]
  },
  {
   "cell_type": "markdown",
   "metadata": {},
   "source": [
    "##### Поиск пропусков в датафрейме questions_df с помощью метода .isna() - есть 1 в столбце тегов"
   ]
  },
  {
   "cell_type": "code",
   "execution_count": 37,
   "metadata": {},
   "outputs": [
    {
     "data": {
      "text/plain": [
       "question_id       0\n",
       "bundle_id         0\n",
       "correct_answer    0\n",
       "part              0\n",
       "tags              1\n",
       "dtype: int64"
      ]
     },
     "execution_count": 37,
     "metadata": {},
     "output_type": "execute_result"
    }
   ],
   "source": [
    "questions_df.isna().sum() "
   ]
  },
  {
   "cell_type": "markdown",
   "metadata": {},
   "source": [
    "##### Поиск пропусков показал что есть один пропуск в столбце тегов\n",
    "##### Выведем информацию о том, где он находится"
   ]
  },
  {
   "cell_type": "code",
   "execution_count": 38,
   "metadata": {},
   "outputs": [
    {
     "data": {
      "text/html": [
       "<div>\n",
       "<style scoped>\n",
       "    .dataframe tbody tr th:only-of-type {\n",
       "        vertical-align: middle;\n",
       "    }\n",
       "\n",
       "    .dataframe tbody tr th {\n",
       "        vertical-align: top;\n",
       "    }\n",
       "\n",
       "    .dataframe thead th {\n",
       "        text-align: right;\n",
       "    }\n",
       "</style>\n",
       "<table border=\"1\" class=\"dataframe\">\n",
       "  <thead>\n",
       "    <tr style=\"text-align: right;\">\n",
       "      <th></th>\n",
       "      <th>question_id</th>\n",
       "      <th>bundle_id</th>\n",
       "      <th>correct_answer</th>\n",
       "      <th>part</th>\n",
       "      <th>tags</th>\n",
       "    </tr>\n",
       "  </thead>\n",
       "  <tbody>\n",
       "    <tr>\n",
       "      <th>10033</th>\n",
       "      <td>10033</td>\n",
       "      <td>10033</td>\n",
       "      <td>2</td>\n",
       "      <td>6</td>\n",
       "      <td>NaN</td>\n",
       "    </tr>\n",
       "  </tbody>\n",
       "</table>\n",
       "</div>"
      ],
      "text/plain": [
       "       question_id  bundle_id  correct_answer  part tags\n",
       "10033        10033      10033               2     6  NaN"
      ]
     },
     "execution_count": 38,
     "metadata": {},
     "output_type": "execute_result"
    }
   ],
   "source": [
    "questions_df[questions_df.tags.isna()]"
   ]
  },
  {
   "cell_type": "markdown",
   "metadata": {},
   "source": [
    "##### Проверим есть ли в датафрейме questions_df дубликаты"
   ]
  },
  {
   "cell_type": "code",
   "execution_count": 39,
   "metadata": {},
   "outputs": [
    {
     "data": {
      "text/plain": [
       "0"
      ]
     },
     "execution_count": 39,
     "metadata": {},
     "output_type": "execute_result"
    }
   ],
   "source": [
    "questions_df.duplicated().sum() "
   ]
  },
  {
   "cell_type": "markdown",
   "metadata": {},
   "source": [
    "##### В датафрейме questions_df дубликаты отсутствуют\n",
    "##### Теперь мы выведем справку о количестве значений в каждом столбце и типе данных датафрейма questions_df"
   ]
  },
  {
   "cell_type": "code",
   "execution_count": 40,
   "metadata": {},
   "outputs": [
    {
     "name": "stdout",
     "output_type": "stream",
     "text": [
      "<class 'pandas.core.frame.DataFrame'>\n",
      "RangeIndex: 13523 entries, 0 to 13522\n",
      "Data columns (total 5 columns):\n",
      " #   Column          Non-Null Count  Dtype \n",
      "---  ------          --------------  ----- \n",
      " 0   question_id     13523 non-null  int64 \n",
      " 1   bundle_id       13523 non-null  int64 \n",
      " 2   correct_answer  13523 non-null  int64 \n",
      " 3   part            13523 non-null  int64 \n",
      " 4   tags            13522 non-null  object\n",
      "dtypes: int64(4), object(1)\n",
      "memory usage: 528.4+ KB\n"
     ]
    }
   ],
   "source": [
    "questions_df.info() "
   ]
  },
  {
   "cell_type": "markdown",
   "metadata": {},
   "source": [
    "##### Рассмотрим количество значений внешних ключей, соответствующих каждому значению в столбце разделов"
   ]
  },
  {
   "cell_type": "code",
   "execution_count": 41,
   "metadata": {},
   "outputs": [
    {
     "data": {
      "text/html": [
       "<div>\n",
       "<style scoped>\n",
       "    .dataframe tbody tr th:only-of-type {\n",
       "        vertical-align: middle;\n",
       "    }\n",
       "\n",
       "    .dataframe tbody tr th {\n",
       "        vertical-align: top;\n",
       "    }\n",
       "\n",
       "    .dataframe thead th {\n",
       "        text-align: right;\n",
       "    }\n",
       "</style>\n",
       "<table border=\"1\" class=\"dataframe\">\n",
       "  <thead>\n",
       "    <tr style=\"text-align: right;\">\n",
       "      <th></th>\n",
       "      <th>part</th>\n",
       "      <th>question_id</th>\n",
       "    </tr>\n",
       "  </thead>\n",
       "  <tbody>\n",
       "    <tr>\n",
       "      <th>0</th>\n",
       "      <td>1</td>\n",
       "      <td>992</td>\n",
       "    </tr>\n",
       "    <tr>\n",
       "      <th>1</th>\n",
       "      <td>2</td>\n",
       "      <td>1647</td>\n",
       "    </tr>\n",
       "    <tr>\n",
       "      <th>2</th>\n",
       "      <td>3</td>\n",
       "      <td>1562</td>\n",
       "    </tr>\n",
       "    <tr>\n",
       "      <th>3</th>\n",
       "      <td>4</td>\n",
       "      <td>1439</td>\n",
       "    </tr>\n",
       "    <tr>\n",
       "      <th>4</th>\n",
       "      <td>5</td>\n",
       "      <td>5511</td>\n",
       "    </tr>\n",
       "    <tr>\n",
       "      <th>5</th>\n",
       "      <td>6</td>\n",
       "      <td>1212</td>\n",
       "    </tr>\n",
       "    <tr>\n",
       "      <th>6</th>\n",
       "      <td>7</td>\n",
       "      <td>1160</td>\n",
       "    </tr>\n",
       "  </tbody>\n",
       "</table>\n",
       "</div>"
      ],
      "text/plain": [
       "   part  question_id\n",
       "0     1          992\n",
       "1     2         1647\n",
       "2     3         1562\n",
       "3     4         1439\n",
       "4     5         5511\n",
       "5     6         1212\n",
       "6     7         1160"
      ]
     },
     "execution_count": 41,
     "metadata": {},
     "output_type": "execute_result"
    }
   ],
   "source": [
    "questions_df[['part', 'question_id']].groupby(['part'], as_index = False).count()"
   ]
  },
  {
   "cell_type": "code",
   "execution_count": 42,
   "metadata": {},
   "outputs": [
    {
     "data": {
      "text/plain": [
       "<AxesSubplot: xlabel='part', ylabel='Count'>"
      ]
     },
     "execution_count": 42,
     "metadata": {},
     "output_type": "execute_result"
    },
    {
     "data": {
      "image/png": "[encoded data removed]",
      "text/plain": [
       "<Figure size 640x480 with 1 Axes>"
      ]
     },
     "metadata": {},
     "output_type": "display_data"
    }
   ],
   "source": [
    "sns.histplot(data = questions_df, x = 'part', bins = 7)"
   ]
  },
  {
   "cell_type": "markdown",
   "metadata": {},
   "source": [
    "##### Внешние ключи по всем разделам распределены практически без отклонений, кроме пятого."
   ]
  },
  {
   "cell_type": "markdown",
   "metadata": {},
   "source": [
    "## Анализ основной таблицы"
   ]
  },
  {
   "attachments": {},
   "cell_type": "markdown",
   "metadata": {},
   "source": [
    "### train.csv : метаданные ответов на заданные студентам вопросы.\n",
    "\n",
    "**row_id**: (int64) идентификатор строки.  \n",
    "**timestamp**: (int64) время в миллисекундах между этим взаимодействием со студентом и завершением первого события от данного студента.  \n",
    "**user_id**: (int32) идентификатор студента.  \n",
    "**content_id**: (int16) идентификатор взаимодействия со студентом.  \n",
    "**content_type_id**: (int8) идентификатор типа контента. 0, если контентом был заданный студенту вопрос, 1 - просмотр студентом лекции.  \n",
    "**task_container_id**: (int16) идентификатор набора вопросов или лекций. Например, студент может увидеть три вопроса подряд, прежде чем увидит пояснения к какому-либо из них. Все три вопроса будут иметь общий идентификатор набора.  \n",
    "**user_answer**: (int8) ответ студента на вопрос, если они есть. Для лекций считать -1 как null.  \n",
    "**answered_correctly**: (int8) был ли ответ студента на вопрос правильным. Для лекций считать -1 как null.  \n",
    "**prior_question_elapsed_time**: (float32) среднее время в миллисекундах, затрачиваемое студентом для ответа на каждый вопрос из предыдущего набора вопросов, без учёта промежуточных лекций. Имеет значение null для 1-го набора вопросов или лекции.  \n",
    "**prior_question_had_explanation**: (bool) увидел ли студент объяснение и правильный ответ после ответа на предыдущий набор вопросов, без учёта промежуточных лекций. Это значение является общим для одного набора вопросов и имеет значение null для 1-го набора вопросов или лекции. Как правило, первые несколько вопросов, увиденные студентом, были частью вводного диагностического теста и не получили никакой обратной связи."
   ]
  },
  {
   "cell_type": "code",
   "execution_count": 81,
   "metadata": {},
   "outputs": [
    {
     "data": {
      "text/plain": [
       "(101230332, 10)"
      ]
     },
     "execution_count": 81,
     "metadata": {},
     "output_type": "execute_result"
    }
   ],
   "source": [
    "df = pd.read_csv('data/train.csv', encoding = 'utf-8')\n",
    "df.shape"
   ]
  },
  {
   "cell_type": "markdown",
   "metadata": {},
   "source": [
    "#### Выводим строки датафрейма df при помощи метода .head"
   ]
  },
  {
   "cell_type": "code",
   "execution_count": 44,
   "metadata": {},
   "outputs": [
    {
     "data": {
      "text/html": [
       "<div>\n",
       "<style scoped>\n",
       "    .dataframe tbody tr th:only-of-type {\n",
       "        vertical-align: middle;\n",
       "    }\n",
       "\n",
       "    .dataframe tbody tr th {\n",
       "        vertical-align: top;\n",
       "    }\n",
       "\n",
       "    .dataframe thead th {\n",
       "        text-align: right;\n",
       "    }\n",
       "</style>\n",
       "<table border=\"1\" class=\"dataframe\">\n",
       "  <thead>\n",
       "    <tr style=\"text-align: right;\">\n",
       "      <th></th>\n",
       "      <th>row_id</th>\n",
       "      <th>timestamp</th>\n",
       "      <th>user_id</th>\n",
       "      <th>content_id</th>\n",
       "      <th>content_type_id</th>\n",
       "      <th>task_container_id</th>\n",
       "      <th>user_answer</th>\n",
       "      <th>answered_correctly</th>\n",
       "      <th>prior_question_elapsed_time</th>\n",
       "      <th>prior_question_had_explanation</th>\n",
       "    </tr>\n",
       "  </thead>\n",
       "  <tbody>\n",
       "    <tr>\n",
       "      <th>0</th>\n",
       "      <td>0</td>\n",
       "      <td>0</td>\n",
       "      <td>115</td>\n",
       "      <td>5692</td>\n",
       "      <td>0</td>\n",
       "      <td>1</td>\n",
       "      <td>3</td>\n",
       "      <td>1</td>\n",
       "      <td>NaN</td>\n",
       "      <td>NaN</td>\n",
       "    </tr>\n",
       "    <tr>\n",
       "      <th>1</th>\n",
       "      <td>1</td>\n",
       "      <td>56943</td>\n",
       "      <td>115</td>\n",
       "      <td>5716</td>\n",
       "      <td>0</td>\n",
       "      <td>2</td>\n",
       "      <td>2</td>\n",
       "      <td>1</td>\n",
       "      <td>37000.0</td>\n",
       "      <td>False</td>\n",
       "    </tr>\n",
       "    <tr>\n",
       "      <th>2</th>\n",
       "      <td>2</td>\n",
       "      <td>118363</td>\n",
       "      <td>115</td>\n",
       "      <td>128</td>\n",
       "      <td>0</td>\n",
       "      <td>0</td>\n",
       "      <td>0</td>\n",
       "      <td>1</td>\n",
       "      <td>55000.0</td>\n",
       "      <td>False</td>\n",
       "    </tr>\n",
       "    <tr>\n",
       "      <th>3</th>\n",
       "      <td>3</td>\n",
       "      <td>131167</td>\n",
       "      <td>115</td>\n",
       "      <td>7860</td>\n",
       "      <td>0</td>\n",
       "      <td>3</td>\n",
       "      <td>0</td>\n",
       "      <td>1</td>\n",
       "      <td>19000.0</td>\n",
       "      <td>False</td>\n",
       "    </tr>\n",
       "    <tr>\n",
       "      <th>4</th>\n",
       "      <td>4</td>\n",
       "      <td>137965</td>\n",
       "      <td>115</td>\n",
       "      <td>7922</td>\n",
       "      <td>0</td>\n",
       "      <td>4</td>\n",
       "      <td>1</td>\n",
       "      <td>1</td>\n",
       "      <td>11000.0</td>\n",
       "      <td>False</td>\n",
       "    </tr>\n",
       "  </tbody>\n",
       "</table>\n",
       "</div>"
      ],
      "text/plain": [
       "   row_id  timestamp  user_id  content_id  content_type_id  task_container_id  \\\n",
       "0       0          0      115        5692                0                  1   \n",
       "1       1      56943      115        5716                0                  2   \n",
       "2       2     118363      115         128                0                  0   \n",
       "3       3     131167      115        7860                0                  3   \n",
       "4       4     137965      115        7922                0                  4   \n",
       "\n",
       "   user_answer  answered_correctly  prior_question_elapsed_time  \\\n",
       "0            3                   1                          NaN   \n",
       "1            2                   1                      37000.0   \n",
       "2            0                   1                      55000.0   \n",
       "3            0                   1                      19000.0   \n",
       "4            1                   1                      11000.0   \n",
       "\n",
       "  prior_question_had_explanation  \n",
       "0                            NaN  \n",
       "1                          False  \n",
       "2                          False  \n",
       "3                          False  \n",
       "4                          False  "
      ]
     },
     "execution_count": 44,
     "metadata": {},
     "output_type": "execute_result"
    }
   ],
   "source": [
    "df.head()"
   ]
  },
  {
   "cell_type": "markdown",
   "metadata": {},
   "source": [
    "### Произведем анализ датафрема df на то, какие у нас есть категориальные и числовые столбцы"
   ]
  },
  {
   "cell_type": "code",
   "execution_count": 83,
   "metadata": {},
   "outputs": [
    {
     "name": "stdout",
     "output_type": "stream",
     "text": [
      "Категориальные данные:\t  ['prior_question_had_explanation'] \n",
      " Число столбцов = 1\n",
      "Числовые данные:\t  ['row_id', 'timestamp', 'user_id', 'content_id', 'content_type_id', 'task_container_id', 'user_answer', 'answered_correctly', 'prior_question_elapsed_time'] \n",
      " Число столбцов = 9\n"
     ]
    }
   ],
   "source": [
    "cat_col = []\n",
    "num_col = []\n",
    "\n",
    "for column_name in df.columns:\n",
    "    if (df[column_name].dtypes == object):\n",
    "        cat_col += [column_name]\n",
    "    else:\n",
    "        num_col += [column_name]\n",
    "\n",
    "print('Категориальные данные:\\t ',cat_col, '\\n Число столбцов =', len(cat_col))\n",
    "print('Числовые данные:\\t ', num_col, '\\n Число столбцов =', len(num_col))"
   ]
  },
  {
   "cell_type": "markdown",
   "metadata": {},
   "source": [
    "#### Выводим статистику по числовым признакам датафрейма df c помощью метода .describe"
   ]
  },
  {
   "cell_type": "code",
   "execution_count": 85,
   "metadata": {},
   "outputs": [
    {
     "data": {
      "text/html": [
       "<div>\n",
       "<style scoped>\n",
       "    .dataframe tbody tr th:only-of-type {\n",
       "        vertical-align: middle;\n",
       "    }\n",
       "\n",
       "    .dataframe tbody tr th {\n",
       "        vertical-align: top;\n",
       "    }\n",
       "\n",
       "    .dataframe thead th {\n",
       "        text-align: right;\n",
       "    }\n",
       "</style>\n",
       "<table border=\"1\" class=\"dataframe\">\n",
       "  <thead>\n",
       "    <tr style=\"text-align: right;\">\n",
       "      <th></th>\n",
       "      <th>row_id</th>\n",
       "      <th>timestamp</th>\n",
       "      <th>user_id</th>\n",
       "      <th>content_id</th>\n",
       "      <th>content_type_id</th>\n",
       "      <th>task_container_id</th>\n",
       "      <th>user_answer</th>\n",
       "      <th>answered_correctly</th>\n",
       "      <th>prior_question_elapsed_time</th>\n",
       "    </tr>\n",
       "  </thead>\n",
       "  <tbody>\n",
       "    <tr>\n",
       "      <th>count</th>\n",
       "      <td>1.012303e+08</td>\n",
       "      <td>1.012303e+08</td>\n",
       "      <td>1.012303e+08</td>\n",
       "      <td>1.012303e+08</td>\n",
       "      <td>1.012303e+08</td>\n",
       "      <td>1.012303e+08</td>\n",
       "      <td>1.012303e+08</td>\n",
       "      <td>1.012303e+08</td>\n",
       "      <td>9.887879e+07</td>\n",
       "    </tr>\n",
       "    <tr>\n",
       "      <th>mean</th>\n",
       "      <td>5.061517e+07</td>\n",
       "      <td>7.703644e+09</td>\n",
       "      <td>1.076732e+09</td>\n",
       "      <td>5.219605e+03</td>\n",
       "      <td>1.935222e-02</td>\n",
       "      <td>9.040624e+02</td>\n",
       "      <td>1.376123e+00</td>\n",
       "      <td>6.251644e-01</td>\n",
       "      <td>2.542381e+04</td>\n",
       "    </tr>\n",
       "    <tr>\n",
       "      <th>std</th>\n",
       "      <td>2.922268e+07</td>\n",
       "      <td>1.159266e+10</td>\n",
       "      <td>6.197163e+08</td>\n",
       "      <td>3.866359e+03</td>\n",
       "      <td>1.377596e-01</td>\n",
       "      <td>1.358302e+03</td>\n",
       "      <td>1.192896e+00</td>\n",
       "      <td>5.225307e-01</td>\n",
       "      <td>1.994815e+04</td>\n",
       "    </tr>\n",
       "    <tr>\n",
       "      <th>min</th>\n",
       "      <td>0.000000e+00</td>\n",
       "      <td>0.000000e+00</td>\n",
       "      <td>1.150000e+02</td>\n",
       "      <td>0.000000e+00</td>\n",
       "      <td>0.000000e+00</td>\n",
       "      <td>0.000000e+00</td>\n",
       "      <td>-1.000000e+00</td>\n",
       "      <td>-1.000000e+00</td>\n",
       "      <td>0.000000e+00</td>\n",
       "    </tr>\n",
       "    <tr>\n",
       "      <th>25%</th>\n",
       "      <td>2.530758e+07</td>\n",
       "      <td>5.243436e+08</td>\n",
       "      <td>5.408116e+08</td>\n",
       "      <td>2.063000e+03</td>\n",
       "      <td>0.000000e+00</td>\n",
       "      <td>1.040000e+02</td>\n",
       "      <td>0.000000e+00</td>\n",
       "      <td>0.000000e+00</td>\n",
       "      <td>1.600000e+04</td>\n",
       "    </tr>\n",
       "    <tr>\n",
       "      <th>50%</th>\n",
       "      <td>5.061517e+07</td>\n",
       "      <td>2.674234e+09</td>\n",
       "      <td>1.071781e+09</td>\n",
       "      <td>5.026000e+03</td>\n",
       "      <td>0.000000e+00</td>\n",
       "      <td>3.820000e+02</td>\n",
       "      <td>1.000000e+00</td>\n",
       "      <td>1.000000e+00</td>\n",
       "      <td>2.100000e+04</td>\n",
       "    </tr>\n",
       "    <tr>\n",
       "      <th>75%</th>\n",
       "      <td>7.592275e+07</td>\n",
       "      <td>9.924551e+09</td>\n",
       "      <td>1.615742e+09</td>\n",
       "      <td>7.425000e+03</td>\n",
       "      <td>0.000000e+00</td>\n",
       "      <td>1.094000e+03</td>\n",
       "      <td>3.000000e+00</td>\n",
       "      <td>1.000000e+00</td>\n",
       "      <td>2.966600e+04</td>\n",
       "    </tr>\n",
       "    <tr>\n",
       "      <th>max</th>\n",
       "      <td>1.012303e+08</td>\n",
       "      <td>8.742577e+10</td>\n",
       "      <td>2.147483e+09</td>\n",
       "      <td>3.273600e+04</td>\n",
       "      <td>1.000000e+00</td>\n",
       "      <td>9.999000e+03</td>\n",
       "      <td>3.000000e+00</td>\n",
       "      <td>1.000000e+00</td>\n",
       "      <td>3.000000e+05</td>\n",
       "    </tr>\n",
       "  </tbody>\n",
       "</table>\n",
       "</div>"
      ],
      "text/plain": [
       "             row_id     timestamp       user_id    content_id  \\\n",
       "count  1.012303e+08  1.012303e+08  1.012303e+08  1.012303e+08   \n",
       "mean   5.061517e+07  7.703644e+09  1.076732e+09  5.219605e+03   \n",
       "std    2.922268e+07  1.159266e+10  6.197163e+08  3.866359e+03   \n",
       "min    0.000000e+00  0.000000e+00  1.150000e+02  0.000000e+00   \n",
       "25%    2.530758e+07  5.243436e+08  5.408116e+08  2.063000e+03   \n",
       "50%    5.061517e+07  2.674234e+09  1.071781e+09  5.026000e+03   \n",
       "75%    7.592275e+07  9.924551e+09  1.615742e+09  7.425000e+03   \n",
       "max    1.012303e+08  8.742577e+10  2.147483e+09  3.273600e+04   \n",
       "\n",
       "       content_type_id  task_container_id   user_answer  answered_correctly  \\\n",
       "count     1.012303e+08       1.012303e+08  1.012303e+08        1.012303e+08   \n",
       "mean      1.935222e-02       9.040624e+02  1.376123e+00        6.251644e-01   \n",
       "std       1.377596e-01       1.358302e+03  1.192896e+00        5.225307e-01   \n",
       "min       0.000000e+00       0.000000e+00 -1.000000e+00       -1.000000e+00   \n",
       "25%       0.000000e+00       1.040000e+02  0.000000e+00        0.000000e+00   \n",
       "50%       0.000000e+00       3.820000e+02  1.000000e+00        1.000000e+00   \n",
       "75%       0.000000e+00       1.094000e+03  3.000000e+00        1.000000e+00   \n",
       "max       1.000000e+00       9.999000e+03  3.000000e+00        1.000000e+00   \n",
       "\n",
       "       prior_question_elapsed_time  \n",
       "count                 9.887879e+07  \n",
       "mean                  2.542381e+04  \n",
       "std                   1.994815e+04  \n",
       "min                   0.000000e+00  \n",
       "25%                   1.600000e+04  \n",
       "50%                   2.100000e+04  \n",
       "75%                   2.966600e+04  \n",
       "max                   3.000000e+05  "
      ]
     },
     "execution_count": 85,
     "metadata": {},
     "output_type": "execute_result"
    }
   ],
   "source": [
    "df.describe()"
   ]
  },
  {
   "cell_type": "markdown",
   "metadata": {},
   "source": [
    "### Рассмотрим гистограммы (распределение) значений по каждому числовому признаку (столбцу)\n",
    "##### Сначала столбцы с \"большими\" значениями"
   ]
  },
  {
   "cell_type": "code",
   "execution_count": 88,
   "metadata": {},
   "outputs": [
    {
     "data": {
      "image/png": "[encoded data removed]",
      "text/plain": [
       "<Figure size 2000x1000 with 6 Axes>"
      ]
     },
     "metadata": {},
     "output_type": "display_data"
    }
   ],
   "source": [
    "num_col_big = ['row_id', 'timestamp', 'user_id', 'content_id', 'task_container_id', 'prior_question_elapsed_time']\n",
    "width = 2\n",
    "height = int(np.ceil(len(num_col_big) / width))\n",
    "fig, ax = plt.subplots(nrows = height, ncols = width, figsize = (20, 15))\n",
    "\n",
    "for idx, column_name in enumerate(num_col_big):\n",
    "    plt.subplot(height, width, idx + 1)\n",
    "    sns.histplot(data = df, x = column_name, bins = 40, color = 'brown')"
   ]
  },
  {
   "cell_type": "markdown",
   "metadata": {},
   "source": [
    "##### Теперь столбцы с \"маленькими\" значениями"
   ]
  },
  {
   "cell_type": "code",
   "execution_count": 89,
   "metadata": {},
   "outputs": [
    {
     "data": {
      "image/png": "[encoded data removed]",
      "text/plain": [
       "<Figure size 1500x400 with 3 Axes>"
      ]
     },
     "metadata": {},
     "output_type": "display_data"
    }
   ],
   "source": [
    "num_col_small = ['content_type_id', 'user_answer', 'answered_correctly']\n",
    "width = 3\n",
    "height = int(np.ceil(len(num_col_small) / width))\n",
    "fig, ax = plt.subplots(nrows = height, ncols = width, figsize = (15, 4))\n",
    "\n",
    "for idx, column_name in enumerate(num_col_small):\n",
    "    plt.subplot(height, width, idx + 1)\n",
    "    sns.histplot(data = df, x = column_name, bins = 5, color = 'yellow')"
   ]
  },
  {
   "attachments": {},
   "cell_type": "markdown",
   "metadata": {},
   "source": [
    "### Проведём очистку данных:"
   ]
  },
  {
   "cell_type": "code",
   "execution_count": 90,
   "metadata": {},
   "outputs": [
    {
     "data": {
      "text/plain": [
       "row_id                                  0\n",
       "timestamp                               0\n",
       "user_id                                 0\n",
       "content_id                              0\n",
       "content_type_id                         0\n",
       "task_container_id                       0\n",
       "user_answer                             0\n",
       "answered_correctly                      0\n",
       "prior_question_elapsed_time       2351538\n",
       "prior_question_had_explanation     392506\n",
       "dtype: int64"
      ]
     },
     "execution_count": 90,
     "metadata": {},
     "output_type": "execute_result"
    }
   ],
   "source": [
    "# Ищем пропуски в датафрейме df - есть 23723 в столбце времени ответа на каждый вопрос\n",
    "# и 3816 в столбце просмотра объяснений и правильных ответов\n",
    "df.isna().sum()"
   ]
  },
  {
   "attachments": {},
   "cell_type": "markdown",
   "metadata": {},
   "source": [
    "##### В столбце времени ответа на каждый вопрос есть 2351538 пропуска\n",
    "##### В столбце просмотра объяснений и правильных ответов их 392506 "
   ]
  },
  {
   "attachments": {},
   "cell_type": "markdown",
   "metadata": {},
   "source": [
    "### Выведем пропуски в столбце времени ответа на каждый вопрос."
   ]
  },
  {
   "cell_type": "code",
   "execution_count": 91,
   "metadata": {},
   "outputs": [
    {
     "data": {
      "text/html": [
       "<div>\n",
       "<style scoped>\n",
       "    .dataframe tbody tr th:only-of-type {\n",
       "        vertical-align: middle;\n",
       "    }\n",
       "\n",
       "    .dataframe tbody tr th {\n",
       "        vertical-align: top;\n",
       "    }\n",
       "\n",
       "    .dataframe thead th {\n",
       "        text-align: right;\n",
       "    }\n",
       "</style>\n",
       "<table border=\"1\" class=\"dataframe\">\n",
       "  <thead>\n",
       "    <tr style=\"text-align: right;\">\n",
       "      <th></th>\n",
       "      <th>row_id</th>\n",
       "      <th>timestamp</th>\n",
       "      <th>user_id</th>\n",
       "      <th>content_id</th>\n",
       "      <th>content_type_id</th>\n",
       "      <th>task_container_id</th>\n",
       "      <th>user_answer</th>\n",
       "      <th>answered_correctly</th>\n",
       "      <th>prior_question_elapsed_time</th>\n",
       "      <th>prior_question_had_explanation</th>\n",
       "    </tr>\n",
       "  </thead>\n",
       "  <tbody>\n",
       "    <tr>\n",
       "      <th>0</th>\n",
       "      <td>0</td>\n",
       "      <td>0</td>\n",
       "      <td>115</td>\n",
       "      <td>5692</td>\n",
       "      <td>0</td>\n",
       "      <td>1</td>\n",
       "      <td>3</td>\n",
       "      <td>1</td>\n",
       "      <td>NaN</td>\n",
       "      <td>NaN</td>\n",
       "    </tr>\n",
       "    <tr>\n",
       "      <th>46</th>\n",
       "      <td>46</td>\n",
       "      <td>0</td>\n",
       "      <td>124</td>\n",
       "      <td>7900</td>\n",
       "      <td>0</td>\n",
       "      <td>0</td>\n",
       "      <td>0</td>\n",
       "      <td>1</td>\n",
       "      <td>NaN</td>\n",
       "      <td>NaN</td>\n",
       "    </tr>\n",
       "    <tr>\n",
       "      <th>76</th>\n",
       "      <td>76</td>\n",
       "      <td>0</td>\n",
       "      <td>2746</td>\n",
       "      <td>5273</td>\n",
       "      <td>0</td>\n",
       "      <td>0</td>\n",
       "      <td>1</td>\n",
       "      <td>0</td>\n",
       "      <td>NaN</td>\n",
       "      <td>NaN</td>\n",
       "    </tr>\n",
       "    <tr>\n",
       "      <th>89</th>\n",
       "      <td>89</td>\n",
       "      <td>653762</td>\n",
       "      <td>2746</td>\n",
       "      <td>6808</td>\n",
       "      <td>1</td>\n",
       "      <td>14</td>\n",
       "      <td>-1</td>\n",
       "      <td>-1</td>\n",
       "      <td>NaN</td>\n",
       "      <td>False</td>\n",
       "    </tr>\n",
       "    <tr>\n",
       "      <th>96</th>\n",
       "      <td>96</td>\n",
       "      <td>0</td>\n",
       "      <td>5382</td>\n",
       "      <td>5000</td>\n",
       "      <td>0</td>\n",
       "      <td>0</td>\n",
       "      <td>0</td>\n",
       "      <td>1</td>\n",
       "      <td>NaN</td>\n",
       "      <td>NaN</td>\n",
       "    </tr>\n",
       "    <tr>\n",
       "      <th>...</th>\n",
       "      <td>...</td>\n",
       "      <td>...</td>\n",
       "      <td>...</td>\n",
       "      <td>...</td>\n",
       "      <td>...</td>\n",
       "      <td>...</td>\n",
       "      <td>...</td>\n",
       "      <td>...</td>\n",
       "      <td>...</td>\n",
       "      <td>...</td>\n",
       "    </tr>\n",
       "    <tr>\n",
       "      <th>101230195</th>\n",
       "      <td>101230195</td>\n",
       "      <td>1073593458</td>\n",
       "      <td>2147482216</td>\n",
       "      <td>21887</td>\n",
       "      <td>1</td>\n",
       "      <td>170</td>\n",
       "      <td>-1</td>\n",
       "      <td>-1</td>\n",
       "      <td>NaN</td>\n",
       "      <td>False</td>\n",
       "    </tr>\n",
       "    <tr>\n",
       "      <th>101230218</th>\n",
       "      <td>101230218</td>\n",
       "      <td>1240316256</td>\n",
       "      <td>2147482216</td>\n",
       "      <td>6808</td>\n",
       "      <td>1</td>\n",
       "      <td>193</td>\n",
       "      <td>-1</td>\n",
       "      <td>-1</td>\n",
       "      <td>NaN</td>\n",
       "      <td>False</td>\n",
       "    </tr>\n",
       "    <tr>\n",
       "      <th>101230220</th>\n",
       "      <td>101230220</td>\n",
       "      <td>1240470616</td>\n",
       "      <td>2147482216</td>\n",
       "      <td>27699</td>\n",
       "      <td>1</td>\n",
       "      <td>195</td>\n",
       "      <td>-1</td>\n",
       "      <td>-1</td>\n",
       "      <td>NaN</td>\n",
       "      <td>False</td>\n",
       "    </tr>\n",
       "    <tr>\n",
       "      <th>101230222</th>\n",
       "      <td>101230222</td>\n",
       "      <td>1240524060</td>\n",
       "      <td>2147482216</td>\n",
       "      <td>5752</td>\n",
       "      <td>1</td>\n",
       "      <td>197</td>\n",
       "      <td>-1</td>\n",
       "      <td>-1</td>\n",
       "      <td>NaN</td>\n",
       "      <td>False</td>\n",
       "    </tr>\n",
       "    <tr>\n",
       "      <th>101230305</th>\n",
       "      <td>101230305</td>\n",
       "      <td>0</td>\n",
       "      <td>2147482888</td>\n",
       "      <td>6147</td>\n",
       "      <td>0</td>\n",
       "      <td>0</td>\n",
       "      <td>0</td>\n",
       "      <td>1</td>\n",
       "      <td>NaN</td>\n",
       "      <td>NaN</td>\n",
       "    </tr>\n",
       "  </tbody>\n",
       "</table>\n",
       "<p>2351538 rows × 10 columns</p>\n",
       "</div>"
      ],
      "text/plain": [
       "              row_id   timestamp     user_id  content_id  content_type_id  \\\n",
       "0                  0           0         115        5692                0   \n",
       "46                46           0         124        7900                0   \n",
       "76                76           0        2746        5273                0   \n",
       "89                89      653762        2746        6808                1   \n",
       "96                96           0        5382        5000                0   \n",
       "...              ...         ...         ...         ...              ...   \n",
       "101230195  101230195  1073593458  2147482216       21887                1   \n",
       "101230218  101230218  1240316256  2147482216        6808                1   \n",
       "101230220  101230220  1240470616  2147482216       27699                1   \n",
       "101230222  101230222  1240524060  2147482216        5752                1   \n",
       "101230305  101230305           0  2147482888        6147                0   \n",
       "\n",
       "           task_container_id  user_answer  answered_correctly  \\\n",
       "0                          1            3                   1   \n",
       "46                         0            0                   1   \n",
       "76                         0            1                   0   \n",
       "89                        14           -1                  -1   \n",
       "96                         0            0                   1   \n",
       "...                      ...          ...                 ...   \n",
       "101230195                170           -1                  -1   \n",
       "101230218                193           -1                  -1   \n",
       "101230220                195           -1                  -1   \n",
       "101230222                197           -1                  -1   \n",
       "101230305                  0            0                   1   \n",
       "\n",
       "           prior_question_elapsed_time prior_question_had_explanation  \n",
       "0                                  NaN                            NaN  \n",
       "46                                 NaN                            NaN  \n",
       "76                                 NaN                            NaN  \n",
       "89                                 NaN                          False  \n",
       "96                                 NaN                            NaN  \n",
       "...                                ...                            ...  \n",
       "101230195                          NaN                          False  \n",
       "101230218                          NaN                          False  \n",
       "101230220                          NaN                          False  \n",
       "101230222                          NaN                          False  \n",
       "101230305                          NaN                            NaN  \n",
       "\n",
       "[2351538 rows x 10 columns]"
      ]
     },
     "execution_count": 91,
     "metadata": {},
     "output_type": "execute_result"
    }
   ],
   "source": [
    "# Выводим пропуски в столбце времени ответа на каждый вопрос. \n",
    "# Они обусловлены условием: имеет значение null для 1-го набора вопросов или лекции.\n",
    "df[df.prior_question_elapsed_time.isna()]"
   ]
  },
  {
   "attachments": {},
   "cell_type": "markdown",
   "metadata": {},
   "source": [
    "##### Они обусловлены условием: имеет значение null для 1-го набора вопросов или лекции."
   ]
  },
  {
   "attachments": {},
   "cell_type": "markdown",
   "metadata": {},
   "source": [
    "### Теперь выведем пропуски в столбце просмотра объяснений и правильных ответов. "
   ]
  },
  {
   "cell_type": "code",
   "execution_count": 92,
   "metadata": {},
   "outputs": [
    {
     "data": {
      "text/html": [
       "<div>\n",
       "<style scoped>\n",
       "    .dataframe tbody tr th:only-of-type {\n",
       "        vertical-align: middle;\n",
       "    }\n",
       "\n",
       "    .dataframe tbody tr th {\n",
       "        vertical-align: top;\n",
       "    }\n",
       "\n",
       "    .dataframe thead th {\n",
       "        text-align: right;\n",
       "    }\n",
       "</style>\n",
       "<table border=\"1\" class=\"dataframe\">\n",
       "  <thead>\n",
       "    <tr style=\"text-align: right;\">\n",
       "      <th></th>\n",
       "      <th>row_id</th>\n",
       "      <th>timestamp</th>\n",
       "      <th>user_id</th>\n",
       "      <th>content_id</th>\n",
       "      <th>content_type_id</th>\n",
       "      <th>task_container_id</th>\n",
       "      <th>user_answer</th>\n",
       "      <th>answered_correctly</th>\n",
       "      <th>prior_question_elapsed_time</th>\n",
       "      <th>prior_question_had_explanation</th>\n",
       "    </tr>\n",
       "  </thead>\n",
       "  <tbody>\n",
       "    <tr>\n",
       "      <th>0</th>\n",
       "      <td>0</td>\n",
       "      <td>0</td>\n",
       "      <td>115</td>\n",
       "      <td>5692</td>\n",
       "      <td>0</td>\n",
       "      <td>1</td>\n",
       "      <td>3</td>\n",
       "      <td>1</td>\n",
       "      <td>NaN</td>\n",
       "      <td>NaN</td>\n",
       "    </tr>\n",
       "    <tr>\n",
       "      <th>46</th>\n",
       "      <td>46</td>\n",
       "      <td>0</td>\n",
       "      <td>124</td>\n",
       "      <td>7900</td>\n",
       "      <td>0</td>\n",
       "      <td>0</td>\n",
       "      <td>0</td>\n",
       "      <td>1</td>\n",
       "      <td>NaN</td>\n",
       "      <td>NaN</td>\n",
       "    </tr>\n",
       "    <tr>\n",
       "      <th>76</th>\n",
       "      <td>76</td>\n",
       "      <td>0</td>\n",
       "      <td>2746</td>\n",
       "      <td>5273</td>\n",
       "      <td>0</td>\n",
       "      <td>0</td>\n",
       "      <td>1</td>\n",
       "      <td>0</td>\n",
       "      <td>NaN</td>\n",
       "      <td>NaN</td>\n",
       "    </tr>\n",
       "    <tr>\n",
       "      <th>96</th>\n",
       "      <td>96</td>\n",
       "      <td>0</td>\n",
       "      <td>5382</td>\n",
       "      <td>5000</td>\n",
       "      <td>0</td>\n",
       "      <td>0</td>\n",
       "      <td>0</td>\n",
       "      <td>1</td>\n",
       "      <td>NaN</td>\n",
       "      <td>NaN</td>\n",
       "    </tr>\n",
       "    <tr>\n",
       "      <th>224</th>\n",
       "      <td>224</td>\n",
       "      <td>0</td>\n",
       "      <td>8623</td>\n",
       "      <td>3915</td>\n",
       "      <td>0</td>\n",
       "      <td>0</td>\n",
       "      <td>3</td>\n",
       "      <td>1</td>\n",
       "      <td>NaN</td>\n",
       "      <td>NaN</td>\n",
       "    </tr>\n",
       "    <tr>\n",
       "      <th>...</th>\n",
       "      <td>...</td>\n",
       "      <td>...</td>\n",
       "      <td>...</td>\n",
       "      <td>...</td>\n",
       "      <td>...</td>\n",
       "      <td>...</td>\n",
       "      <td>...</td>\n",
       "      <td>...</td>\n",
       "      <td>...</td>\n",
       "      <td>...</td>\n",
       "    </tr>\n",
       "    <tr>\n",
       "      <th>101228989</th>\n",
       "      <td>101228989</td>\n",
       "      <td>0</td>\n",
       "      <td>2147470770</td>\n",
       "      <td>7900</td>\n",
       "      <td>0</td>\n",
       "      <td>0</td>\n",
       "      <td>0</td>\n",
       "      <td>1</td>\n",
       "      <td>NaN</td>\n",
       "      <td>NaN</td>\n",
       "    </tr>\n",
       "    <tr>\n",
       "      <th>101229217</th>\n",
       "      <td>101229217</td>\n",
       "      <td>0</td>\n",
       "      <td>2147470777</td>\n",
       "      <td>7900</td>\n",
       "      <td>0</td>\n",
       "      <td>0</td>\n",
       "      <td>2</td>\n",
       "      <td>0</td>\n",
       "      <td>NaN</td>\n",
       "      <td>NaN</td>\n",
       "    </tr>\n",
       "    <tr>\n",
       "      <th>101229975</th>\n",
       "      <td>101229975</td>\n",
       "      <td>0</td>\n",
       "      <td>2147481750</td>\n",
       "      <td>4137</td>\n",
       "      <td>0</td>\n",
       "      <td>0</td>\n",
       "      <td>0</td>\n",
       "      <td>0</td>\n",
       "      <td>NaN</td>\n",
       "      <td>NaN</td>\n",
       "    </tr>\n",
       "    <tr>\n",
       "      <th>101230025</th>\n",
       "      <td>101230025</td>\n",
       "      <td>0</td>\n",
       "      <td>2147482216</td>\n",
       "      <td>3748</td>\n",
       "      <td>0</td>\n",
       "      <td>0</td>\n",
       "      <td>1</td>\n",
       "      <td>0</td>\n",
       "      <td>NaN</td>\n",
       "      <td>NaN</td>\n",
       "    </tr>\n",
       "    <tr>\n",
       "      <th>101230305</th>\n",
       "      <td>101230305</td>\n",
       "      <td>0</td>\n",
       "      <td>2147482888</td>\n",
       "      <td>6147</td>\n",
       "      <td>0</td>\n",
       "      <td>0</td>\n",
       "      <td>0</td>\n",
       "      <td>1</td>\n",
       "      <td>NaN</td>\n",
       "      <td>NaN</td>\n",
       "    </tr>\n",
       "  </tbody>\n",
       "</table>\n",
       "<p>392506 rows × 10 columns</p>\n",
       "</div>"
      ],
      "text/plain": [
       "              row_id  timestamp     user_id  content_id  content_type_id  \\\n",
       "0                  0          0         115        5692                0   \n",
       "46                46          0         124        7900                0   \n",
       "76                76          0        2746        5273                0   \n",
       "96                96          0        5382        5000                0   \n",
       "224              224          0        8623        3915                0   \n",
       "...              ...        ...         ...         ...              ...   \n",
       "101228989  101228989          0  2147470770        7900                0   \n",
       "101229217  101229217          0  2147470777        7900                0   \n",
       "101229975  101229975          0  2147481750        4137                0   \n",
       "101230025  101230025          0  2147482216        3748                0   \n",
       "101230305  101230305          0  2147482888        6147                0   \n",
       "\n",
       "           task_container_id  user_answer  answered_correctly  \\\n",
       "0                          1            3                   1   \n",
       "46                         0            0                   1   \n",
       "76                         0            1                   0   \n",
       "96                         0            0                   1   \n",
       "224                        0            3                   1   \n",
       "...                      ...          ...                 ...   \n",
       "101228989                  0            0                   1   \n",
       "101229217                  0            2                   0   \n",
       "101229975                  0            0                   0   \n",
       "101230025                  0            1                   0   \n",
       "101230305                  0            0                   1   \n",
       "\n",
       "           prior_question_elapsed_time prior_question_had_explanation  \n",
       "0                                  NaN                            NaN  \n",
       "46                                 NaN                            NaN  \n",
       "76                                 NaN                            NaN  \n",
       "96                                 NaN                            NaN  \n",
       "224                                NaN                            NaN  \n",
       "...                                ...                            ...  \n",
       "101228989                          NaN                            NaN  \n",
       "101229217                          NaN                            NaN  \n",
       "101229975                          NaN                            NaN  \n",
       "101230025                          NaN                            NaN  \n",
       "101230305                          NaN                            NaN  \n",
       "\n",
       "[392506 rows x 10 columns]"
      ]
     },
     "execution_count": 92,
     "metadata": {},
     "output_type": "execute_result"
    }
   ],
   "source": [
    "df[df.prior_question_had_explanation.isna()]"
   ]
  },
  {
   "attachments": {},
   "cell_type": "markdown",
   "metadata": {},
   "source": [
    "##### Они обусловлены условием: имеет значение null для 1-го набора вопросов или лекции."
   ]
  },
  {
   "attachments": {},
   "cell_type": "markdown",
   "metadata": {},
   "source": [
    "### Произведем поиск дубликатов в датафрейм df"
   ]
  },
  {
   "cell_type": "code",
   "execution_count": 93,
   "metadata": {},
   "outputs": [
    {
     "data": {
      "text/plain": [
       "0"
      ]
     },
     "execution_count": 93,
     "metadata": {},
     "output_type": "execute_result"
    }
   ],
   "source": [
    "df.duplicated().sum()"
   ]
  },
  {
   "attachments": {},
   "cell_type": "markdown",
   "metadata": {},
   "source": [
    "##### Количество пропусков равно 0, то есть отсутствуют."
   ]
  },
  {
   "attachments": {},
   "cell_type": "markdown",
   "metadata": {},
   "source": [
    "### Теперь получим справку о количествеве значений в каждом столбце и формате данных датафрейма df с помощью метода .info"
   ]
  },
  {
   "cell_type": "code",
   "execution_count": 94,
   "metadata": {},
   "outputs": [
    {
     "name": "stdout",
     "output_type": "stream",
     "text": [
      "<class 'pandas.core.frame.DataFrame'>\n",
      "RangeIndex: 101230332 entries, 0 to 101230331\n",
      "Data columns (total 10 columns):\n",
      " #   Column                          Dtype  \n",
      "---  ------                          -----  \n",
      " 0   row_id                          int64  \n",
      " 1   timestamp                       int64  \n",
      " 2   user_id                         int64  \n",
      " 3   content_id                      int64  \n",
      " 4   content_type_id                 int64  \n",
      " 5   task_container_id               int64  \n",
      " 6   user_answer                     int64  \n",
      " 7   answered_correctly              int64  \n",
      " 8   prior_question_elapsed_time     float64\n",
      " 9   prior_question_had_explanation  object \n",
      "dtypes: float64(1), int64(8), object(1)\n",
      "memory usage: 7.5+ GB\n"
     ]
    }
   ],
   "source": [
    "df.info()"
   ]
  },
  {
   "attachments": {},
   "cell_type": "markdown",
   "metadata": {},
   "source": [
    "**Из представленных данных можно сделать следующие выводы:**\n",
    "- столбец **row_id** совпадает с индексом датафрейма df и может быть удален\n",
    "- датафрейм df занимает 7.5+ GB памяти\n",
    "- имеет смысл изменить формат хранения некоторых данных для уменьшения объёма памяти, занимаемой датафреймом, и увеличения скорости исследования"
   ]
  },
  {
   "attachments": {},
   "cell_type": "markdown",
   "metadata": {},
   "source": [
    "### Из выщеперечисленных выводов произведем, следующее:\n",
    "- ##### Удалим столбец row_id\n",
    "- ##### Изменим типы данных во всех столбцах датафрейма df при помощи метода .astype"
   ]
  },
  {
   "cell_type": "code",
   "execution_count": 97,
   "metadata": {},
   "outputs": [
    {
     "ename": "KeyError",
     "evalue": "\"['row_id'] not found in axis\"",
     "output_type": "error",
     "traceback": [
      "\u001b[1;31m---------------------------------------------------------------------------\u001b[0m",
      "\u001b[1;31mKeyError\u001b[0m                                  Traceback (most recent call last)",
      "Cell \u001b[1;32mIn [97], line 1\u001b[0m\n\u001b[1;32m----> 1\u001b[0m df \u001b[38;5;241m=\u001b[39m \u001b[43mdf\u001b[49m\u001b[38;5;241;43m.\u001b[39;49m\u001b[43mdrop\u001b[49m\u001b[43m(\u001b[49m\u001b[38;5;124;43m'\u001b[39;49m\u001b[38;5;124;43mrow_id\u001b[39;49m\u001b[38;5;124;43m'\u001b[39;49m\u001b[43m,\u001b[49m\u001b[43m \u001b[49m\u001b[43maxis\u001b[49m\u001b[43m \u001b[49m\u001b[38;5;241;43m=\u001b[39;49m\u001b[43m \u001b[49m\u001b[38;5;241;43m1\u001b[39;49m\u001b[43m)\u001b[49m\n\u001b[0;32m      2\u001b[0m df[\u001b[38;5;124m'\u001b[39m\u001b[38;5;124mtimestamp\u001b[39m\u001b[38;5;124m'\u001b[39m] \u001b[38;5;241m=\u001b[39m df[\u001b[38;5;124m'\u001b[39m\u001b[38;5;124mtimestamp\u001b[39m\u001b[38;5;124m'\u001b[39m]\u001b[38;5;241m.\u001b[39mastype(\u001b[38;5;124m'\u001b[39m\u001b[38;5;124muint64\u001b[39m\u001b[38;5;124m'\u001b[39m)\n\u001b[0;32m      3\u001b[0m df[\u001b[38;5;124m'\u001b[39m\u001b[38;5;124muser_id\u001b[39m\u001b[38;5;124m'\u001b[39m] \u001b[38;5;241m=\u001b[39m df[\u001b[38;5;124m'\u001b[39m\u001b[38;5;124muser_id\u001b[39m\u001b[38;5;124m'\u001b[39m]\u001b[38;5;241m.\u001b[39mastype(\u001b[38;5;124m'\u001b[39m\u001b[38;5;124muint32\u001b[39m\u001b[38;5;124m'\u001b[39m)\n",
      "File \u001b[1;32m~\\AppData\\Roaming\\Python\\Python310\\site-packages\\pandas\\util\\_decorators.py:331\u001b[0m, in \u001b[0;36mdeprecate_nonkeyword_arguments.<locals>.decorate.<locals>.wrapper\u001b[1;34m(*args, **kwargs)\u001b[0m\n\u001b[0;32m    325\u001b[0m \u001b[39mif\u001b[39;00m \u001b[39mlen\u001b[39m(args) \u001b[39m>\u001b[39m num_allow_args:\n\u001b[0;32m    326\u001b[0m     warnings\u001b[39m.\u001b[39mwarn(\n\u001b[0;32m    327\u001b[0m         msg\u001b[39m.\u001b[39mformat(arguments\u001b[39m=\u001b[39m_format_argument_list(allow_args)),\n\u001b[0;32m    328\u001b[0m         \u001b[39mFutureWarning\u001b[39;00m,\n\u001b[0;32m    329\u001b[0m         stacklevel\u001b[39m=\u001b[39mfind_stack_level(),\n\u001b[0;32m    330\u001b[0m     )\n\u001b[1;32m--> 331\u001b[0m \u001b[39mreturn\u001b[39;00m func(\u001b[39m*\u001b[39margs, \u001b[39m*\u001b[39m\u001b[39m*\u001b[39mkwargs)\n",
      "File \u001b[1;32m~\\AppData\\Roaming\\Python\\Python310\\site-packages\\pandas\\core\\frame.py:5388\u001b[0m, in \u001b[0;36mDataFrame.drop\u001b[1;34m(self, labels, axis, index, columns, level, inplace, errors)\u001b[0m\n\u001b[0;32m   5240\u001b[0m \u001b[39m@deprecate_nonkeyword_arguments\u001b[39m(version\u001b[39m=\u001b[39m\u001b[39mNone\u001b[39;00m, allowed_args\u001b[39m=\u001b[39m[\u001b[39m\"\u001b[39m\u001b[39mself\u001b[39m\u001b[39m\"\u001b[39m, \u001b[39m\"\u001b[39m\u001b[39mlabels\u001b[39m\u001b[39m\"\u001b[39m])\n\u001b[0;32m   5241\u001b[0m \u001b[39mdef\u001b[39;00m \u001b[39mdrop\u001b[39m(  \u001b[39m# type: ignore[override]\u001b[39;00m\n\u001b[0;32m   5242\u001b[0m     \u001b[39mself\u001b[39m,\n\u001b[1;32m   (...)\u001b[0m\n\u001b[0;32m   5249\u001b[0m     errors: IgnoreRaise \u001b[39m=\u001b[39m \u001b[39m\"\u001b[39m\u001b[39mraise\u001b[39m\u001b[39m\"\u001b[39m,\n\u001b[0;32m   5250\u001b[0m ) \u001b[39m-\u001b[39m\u001b[39m>\u001b[39m DataFrame \u001b[39m|\u001b[39m \u001b[39mNone\u001b[39;00m:\n\u001b[0;32m   5251\u001b[0m     \u001b[39m\"\"\"\u001b[39;00m\n\u001b[0;32m   5252\u001b[0m \u001b[39m    Drop specified labels from rows or columns.\u001b[39;00m\n\u001b[0;32m   5253\u001b[0m \n\u001b[1;32m   (...)\u001b[0m\n\u001b[0;32m   5386\u001b[0m \u001b[39m            weight  1.0     0.8\u001b[39;00m\n\u001b[0;32m   5387\u001b[0m \u001b[39m    \"\"\"\u001b[39;00m\n\u001b[1;32m-> 5388\u001b[0m     \u001b[39mreturn\u001b[39;00m \u001b[39msuper\u001b[39;49m()\u001b[39m.\u001b[39;49mdrop(\n\u001b[0;32m   5389\u001b[0m         labels\u001b[39m=\u001b[39;49mlabels,\n\u001b[0;32m   5390\u001b[0m         axis\u001b[39m=\u001b[39;49maxis,\n\u001b[0;32m   5391\u001b[0m         index\u001b[39m=\u001b[39;49mindex,\n\u001b[0;32m   5392\u001b[0m         columns\u001b[39m=\u001b[39;49mcolumns,\n\u001b[0;32m   5393\u001b[0m         level\u001b[39m=\u001b[39;49mlevel,\n\u001b[0;32m   5394\u001b[0m         inplace\u001b[39m=\u001b[39;49minplace,\n\u001b[0;32m   5395\u001b[0m         errors\u001b[39m=\u001b[39;49merrors,\n\u001b[0;32m   5396\u001b[0m     )\n",
      "File \u001b[1;32m~\\AppData\\Roaming\\Python\\Python310\\site-packages\\pandas\\util\\_decorators.py:331\u001b[0m, in \u001b[0;36mdeprecate_nonkeyword_arguments.<locals>.decorate.<locals>.wrapper\u001b[1;34m(*args, **kwargs)\u001b[0m\n\u001b[0;32m    325\u001b[0m \u001b[39mif\u001b[39;00m \u001b[39mlen\u001b[39m(args) \u001b[39m>\u001b[39m num_allow_args:\n\u001b[0;32m    326\u001b[0m     warnings\u001b[39m.\u001b[39mwarn(\n\u001b[0;32m    327\u001b[0m         msg\u001b[39m.\u001b[39mformat(arguments\u001b[39m=\u001b[39m_format_argument_list(allow_args)),\n\u001b[0;32m    328\u001b[0m         \u001b[39mFutureWarning\u001b[39;00m,\n\u001b[0;32m    329\u001b[0m         stacklevel\u001b[39m=\u001b[39mfind_stack_level(),\n\u001b[0;32m    330\u001b[0m     )\n\u001b[1;32m--> 331\u001b[0m \u001b[39mreturn\u001b[39;00m func(\u001b[39m*\u001b[39margs, \u001b[39m*\u001b[39m\u001b[39m*\u001b[39mkwargs)\n",
      "File \u001b[1;32m~\\AppData\\Roaming\\Python\\Python310\\site-packages\\pandas\\core\\generic.py:4505\u001b[0m, in \u001b[0;36mNDFrame.drop\u001b[1;34m(self, labels, axis, index, columns, level, inplace, errors)\u001b[0m\n\u001b[0;32m   4503\u001b[0m \u001b[39mfor\u001b[39;00m axis, labels \u001b[39min\u001b[39;00m axes\u001b[39m.\u001b[39mitems():\n\u001b[0;32m   4504\u001b[0m     \u001b[39mif\u001b[39;00m labels \u001b[39mis\u001b[39;00m \u001b[39mnot\u001b[39;00m \u001b[39mNone\u001b[39;00m:\n\u001b[1;32m-> 4505\u001b[0m         obj \u001b[39m=\u001b[39m obj\u001b[39m.\u001b[39;49m_drop_axis(labels, axis, level\u001b[39m=\u001b[39;49mlevel, errors\u001b[39m=\u001b[39;49merrors)\n\u001b[0;32m   4507\u001b[0m \u001b[39mif\u001b[39;00m inplace:\n\u001b[0;32m   4508\u001b[0m     \u001b[39mself\u001b[39m\u001b[39m.\u001b[39m_update_inplace(obj)\n",
      "File \u001b[1;32m~\\AppData\\Roaming\\Python\\Python310\\site-packages\\pandas\\core\\generic.py:4546\u001b[0m, in \u001b[0;36mNDFrame._drop_axis\u001b[1;34m(self, labels, axis, level, errors, only_slice)\u001b[0m\n\u001b[0;32m   4544\u001b[0m         new_axis \u001b[39m=\u001b[39m axis\u001b[39m.\u001b[39mdrop(labels, level\u001b[39m=\u001b[39mlevel, errors\u001b[39m=\u001b[39merrors)\n\u001b[0;32m   4545\u001b[0m     \u001b[39melse\u001b[39;00m:\n\u001b[1;32m-> 4546\u001b[0m         new_axis \u001b[39m=\u001b[39m axis\u001b[39m.\u001b[39;49mdrop(labels, errors\u001b[39m=\u001b[39;49merrors)\n\u001b[0;32m   4547\u001b[0m     indexer \u001b[39m=\u001b[39m axis\u001b[39m.\u001b[39mget_indexer(new_axis)\n\u001b[0;32m   4549\u001b[0m \u001b[39m# Case for non-unique axis\u001b[39;00m\n\u001b[0;32m   4550\u001b[0m \u001b[39melse\u001b[39;00m:\n",
      "File \u001b[1;32m~\\AppData\\Roaming\\Python\\Python310\\site-packages\\pandas\\core\\indexes\\base.py:6975\u001b[0m, in \u001b[0;36mIndex.drop\u001b[1;34m(self, labels, errors)\u001b[0m\n\u001b[0;32m   6973\u001b[0m \u001b[39mif\u001b[39;00m mask\u001b[39m.\u001b[39many():\n\u001b[0;32m   6974\u001b[0m     \u001b[39mif\u001b[39;00m errors \u001b[39m!=\u001b[39m \u001b[39m\"\u001b[39m\u001b[39mignore\u001b[39m\u001b[39m\"\u001b[39m:\n\u001b[1;32m-> 6975\u001b[0m         \u001b[39mraise\u001b[39;00m \u001b[39mKeyError\u001b[39;00m(\u001b[39mf\u001b[39m\u001b[39m\"\u001b[39m\u001b[39m{\u001b[39;00m\u001b[39mlist\u001b[39m(labels[mask])\u001b[39m}\u001b[39;00m\u001b[39m not found in axis\u001b[39m\u001b[39m\"\u001b[39m)\n\u001b[0;32m   6976\u001b[0m     indexer \u001b[39m=\u001b[39m indexer[\u001b[39m~\u001b[39mmask]\n\u001b[0;32m   6977\u001b[0m \u001b[39mreturn\u001b[39;00m \u001b[39mself\u001b[39m\u001b[39m.\u001b[39mdelete(indexer)\n",
      "\u001b[1;31mKeyError\u001b[0m: \"['row_id'] not found in axis\""
     ]
    }
   ],
   "source": [
    "df = df.drop('row_id', axis = 1)\n",
    "df['timestamp'] = df['timestamp'].astype('uint64')\n",
    "df['user_id'] = df['user_id'].astype('uint32')\n",
    "df['content_id'] = df['content_id'].astype('uint16')\n",
    "df['content_type_id'] = df['content_type_id'].astype('int8')\n",
    "df['task_container_id'] = df['task_container_id'].astype('uint16')\n",
    "df['user_answer'] = df['user_answer'].astype('int8')\n",
    "df['answered_correctly'] = df['answered_correctly'].astype('int8')\n",
    "df['prior_question_elapsed_time'] = df['prior_question_elapsed_time'].astype('float32')"
   ]
  },
  {
   "cell_type": "markdown",
   "metadata": {},
   "source": [
    "### Выведем обновленную информацию датафрейма при помощи метода .info"
   ]
  },
  {
   "cell_type": "code",
   "execution_count": 96,
   "metadata": {},
   "outputs": [
    {
     "name": "stdout",
     "output_type": "stream",
     "text": [
      "<class 'pandas.core.frame.DataFrame'>\n",
      "RangeIndex: 101230332 entries, 0 to 101230331\n",
      "Data columns (total 9 columns):\n",
      " #   Column                          Dtype  \n",
      "---  ------                          -----  \n",
      " 0   timestamp                       uint64 \n",
      " 1   user_id                         uint32 \n",
      " 2   content_id                      uint16 \n",
      " 3   content_type_id                 int8   \n",
      " 4   task_container_id               uint16 \n",
      " 5   user_answer                     int8   \n",
      " 6   answered_correctly              int8   \n",
      " 7   prior_question_elapsed_time     float32\n",
      " 8   prior_question_had_explanation  object \n",
      "dtypes: float32(1), int8(3), object(1), uint16(2), uint32(1), uint64(1)\n",
      "memory usage: 2.9+ GB\n"
     ]
    }
   ],
   "source": [
    "df.info()"
   ]
  },
  {
   "cell_type": "markdown",
   "metadata": {},
   "source": [
    "### Получим во сколько раз изменился размер датафрейма"
   ]
  },
  {
   "cell_type": "code",
   "execution_count": 98,
   "metadata": {},
   "outputs": [
    {
     "name": "stdout",
     "output_type": "stream",
     "text": [
      "2.6\n"
     ]
    }
   ],
   "source": [
    "print(round(7.5 / 2.9, 1))"
   ]
  },
  {
   "attachments": {},
   "cell_type": "markdown",
   "metadata": {},
   "source": [
    "После выполненных процедур объем памяти занимаемый датафремом уменьшился в 2,6 раза"
   ]
  },
  {
   "cell_type": "markdown",
   "metadata": {},
   "source": [
    "### Рассмотрим корреляцию числовых признаков и их связь с успеваемостью студентов"
   ]
  },
  {
   "cell_type": "code",
   "execution_count": 99,
   "metadata": {},
   "outputs": [
    {
     "data": {
      "text/html": [
       "<style type=\"text/css\">\n",
       "#T_f3cea_row0_col0, #T_f3cea_row1_col1, #T_f3cea_row2_col2, #T_f3cea_row3_col3, #T_f3cea_row4_col4, #T_f3cea_row5_col5, #T_f3cea_row6_col6, #T_f3cea_row7_col7 {\n",
       "  background-color: #a9373b;\n",
       "  color: #f1f1f1;\n",
       "}\n",
       "#T_f3cea_row0_col1, #T_f3cea_row1_col0, #T_f3cea_row1_col3, #T_f3cea_row1_col6, #T_f3cea_row3_col1, #T_f3cea_row4_col7, #T_f3cea_row6_col1, #T_f3cea_row6_col7, #T_f3cea_row7_col4, #T_f3cea_row7_col6 {\n",
       "  background-color: #faf5f5;\n",
       "  color: #000000;\n",
       "}\n",
       "#T_f3cea_row0_col2, #T_f3cea_row2_col0 {\n",
       "  background-color: #faf0ef;\n",
       "  color: #000000;\n",
       "}\n",
       "#T_f3cea_row0_col3, #T_f3cea_row0_col5, #T_f3cea_row0_col7, #T_f3cea_row1_col2, #T_f3cea_row1_col4, #T_f3cea_row1_col5, #T_f3cea_row1_col7, #T_f3cea_row2_col1, #T_f3cea_row3_col0, #T_f3cea_row4_col1, #T_f3cea_row4_col5, #T_f3cea_row5_col0, #T_f3cea_row5_col1, #T_f3cea_row5_col4, #T_f3cea_row5_col7, #T_f3cea_row7_col0, #T_f3cea_row7_col1, #T_f3cea_row7_col5 {\n",
       "  background-color: #faf5f4;\n",
       "  color: #000000;\n",
       "}\n",
       "#T_f3cea_row0_col4, #T_f3cea_row4_col0 {\n",
       "  background-color: #d9a5a2;\n",
       "  color: #000000;\n",
       "}\n",
       "#T_f3cea_row0_col6, #T_f3cea_row6_col0 {\n",
       "  background-color: #faf3f3;\n",
       "  color: #000000;\n",
       "}\n",
       "#T_f3cea_row2_col3, #T_f3cea_row3_col2 {\n",
       "  background-color: #daa8a5;\n",
       "  color: #000000;\n",
       "}\n",
       "#T_f3cea_row2_col4, #T_f3cea_row4_col2 {\n",
       "  background-color: #faf2f1;\n",
       "  color: #000000;\n",
       "}\n",
       "#T_f3cea_row2_col5, #T_f3cea_row5_col2 {\n",
       "  background-color: #ecebef;\n",
       "  color: #000000;\n",
       "}\n",
       "#T_f3cea_row2_col6, #T_f3cea_row6_col2 {\n",
       "  background-color: #d9dce5;\n",
       "  color: #000000;\n",
       "}\n",
       "#T_f3cea_row2_col7, #T_f3cea_row7_col2 {\n",
       "  background-color: #f1dddb;\n",
       "  color: #000000;\n",
       "}\n",
       "#T_f3cea_row3_col4, #T_f3cea_row4_col3 {\n",
       "  background-color: #f9f5f5;\n",
       "  color: #000000;\n",
       "}\n",
       "#T_f3cea_row3_col5, #T_f3cea_row5_col3 {\n",
       "  background-color: #c8cfdd;\n",
       "  color: #000000;\n",
       "}\n",
       "#T_f3cea_row3_col6, #T_f3cea_row6_col3 {\n",
       "  background-color: #a8b7cf;\n",
       "  color: #000000;\n",
       "}\n",
       "#T_f3cea_row3_col7, #T_f3cea_row7_col3 {\n",
       "  background-color: #000000;\n",
       "  color: #f1f1f1;\n",
       "}\n",
       "#T_f3cea_row4_col6, #T_f3cea_row6_col4 {\n",
       "  background-color: #f9efee;\n",
       "  color: #000000;\n",
       "}\n",
       "#T_f3cea_row5_col6, #T_f3cea_row6_col5 {\n",
       "  background-color: #f3e2e0;\n",
       "  color: #000000;\n",
       "}\n",
       "</style>\n",
       "<table id=\"T_f3cea\">\n",
       "  <thead>\n",
       "    <tr>\n",
       "      <th class=\"blank level0\" >&nbsp;</th>\n",
       "      <th id=\"T_f3cea_level0_col0\" class=\"col_heading level0 col0\" >timestamp</th>\n",
       "      <th id=\"T_f3cea_level0_col1\" class=\"col_heading level0 col1\" >user_id</th>\n",
       "      <th id=\"T_f3cea_level0_col2\" class=\"col_heading level0 col2\" >content_id</th>\n",
       "      <th id=\"T_f3cea_level0_col3\" class=\"col_heading level0 col3\" >content_type_id</th>\n",
       "      <th id=\"T_f3cea_level0_col4\" class=\"col_heading level0 col4\" >task_container_id</th>\n",
       "      <th id=\"T_f3cea_level0_col5\" class=\"col_heading level0 col5\" >user_answer</th>\n",
       "      <th id=\"T_f3cea_level0_col6\" class=\"col_heading level0 col6\" >answered_correctly</th>\n",
       "      <th id=\"T_f3cea_level0_col7\" class=\"col_heading level0 col7\" >prior_question_elapsed_time</th>\n",
       "    </tr>\n",
       "  </thead>\n",
       "  <tbody>\n",
       "    <tr>\n",
       "      <th id=\"T_f3cea_level0_row0\" class=\"row_heading level0 row0\" >timestamp</th>\n",
       "      <td id=\"T_f3cea_row0_col0\" class=\"data row0 col0\" >1.000000</td>\n",
       "      <td id=\"T_f3cea_row0_col1\" class=\"data row0 col1\" >-0.000041</td>\n",
       "      <td id=\"T_f3cea_row0_col2\" class=\"data row0 col2\" >0.052931</td>\n",
       "      <td id=\"T_f3cea_row0_col3\" class=\"data row0 col3\" >0.000974</td>\n",
       "      <td id=\"T_f3cea_row0_col4\" class=\"data row0 col4\" >0.433359</td>\n",
       "      <td id=\"T_f3cea_row0_col5\" class=\"data row0 col5\" >0.000724</td>\n",
       "      <td id=\"T_f3cea_row0_col6\" class=\"data row0 col6\" >0.025452</td>\n",
       "      <td id=\"T_f3cea_row0_col7\" class=\"data row0 col7\" >0.013934</td>\n",
       "    </tr>\n",
       "    <tr>\n",
       "      <th id=\"T_f3cea_level0_row1\" class=\"row_heading level0 row1\" >user_id</th>\n",
       "      <td id=\"T_f3cea_row1_col0\" class=\"data row1 col0\" >-0.000041</td>\n",
       "      <td id=\"T_f3cea_row1_col1\" class=\"data row1 col1\" >1.000000</td>\n",
       "      <td id=\"T_f3cea_row1_col2\" class=\"data row1 col2\" >0.000868</td>\n",
       "      <td id=\"T_f3cea_row1_col3\" class=\"data row1 col3\" >-0.000150</td>\n",
       "      <td id=\"T_f3cea_row1_col4\" class=\"data row1 col4\" >0.001498</td>\n",
       "      <td id=\"T_f3cea_row1_col5\" class=\"data row1 col5\" >0.000156</td>\n",
       "      <td id=\"T_f3cea_row1_col6\" class=\"data row1 col6\" >-0.000307</td>\n",
       "      <td id=\"T_f3cea_row1_col7\" class=\"data row1 col7\" >0.000308</td>\n",
       "    </tr>\n",
       "    <tr>\n",
       "      <th id=\"T_f3cea_level0_row2\" class=\"row_heading level0 row2\" >content_id</th>\n",
       "      <td id=\"T_f3cea_row2_col0\" class=\"data row2 col0\" >0.052931</td>\n",
       "      <td id=\"T_f3cea_row2_col1\" class=\"data row2 col1\" >0.000868</td>\n",
       "      <td id=\"T_f3cea_row2_col2\" class=\"data row2 col2\" >1.000000</td>\n",
       "      <td id=\"T_f3cea_row2_col3\" class=\"data row2 col3\" >0.414640</td>\n",
       "      <td id=\"T_f3cea_row2_col4\" class=\"data row2 col4\" >0.046304</td>\n",
       "      <td id=\"T_f3cea_row2_col5\" class=\"data row2 col5\" >-0.106668</td>\n",
       "      <td id=\"T_f3cea_row2_col6\" class=\"data row2 col6\" >-0.196960</td>\n",
       "      <td id=\"T_f3cea_row2_col7\" class=\"data row2 col7\" >0.151661</td>\n",
       "    </tr>\n",
       "    <tr>\n",
       "      <th id=\"T_f3cea_level0_row3\" class=\"row_heading level0 row3\" >content_type_id</th>\n",
       "      <td id=\"T_f3cea_row3_col0\" class=\"data row3 col0\" >0.000974</td>\n",
       "      <td id=\"T_f3cea_row3_col1\" class=\"data row3 col1\" >-0.000150</td>\n",
       "      <td id=\"T_f3cea_row3_col2\" class=\"data row3 col2\" >0.414640</td>\n",
       "      <td id=\"T_f3cea_row3_col3\" class=\"data row3 col3\" >1.000000</td>\n",
       "      <td id=\"T_f3cea_row3_col4\" class=\"data row3 col4\" >-0.019647</td>\n",
       "      <td id=\"T_f3cea_row3_col5\" class=\"data row3 col5\" >-0.279818</td>\n",
       "      <td id=\"T_f3cea_row3_col6\" class=\"data row3 col6\" >-0.436912</td>\n",
       "      <td id=\"T_f3cea_row3_col7\" class=\"data row3 col7\" >nan</td>\n",
       "    </tr>\n",
       "    <tr>\n",
       "      <th id=\"T_f3cea_level0_row4\" class=\"row_heading level0 row4\" >task_container_id</th>\n",
       "      <td id=\"T_f3cea_row4_col0\" class=\"data row4 col0\" >0.433359</td>\n",
       "      <td id=\"T_f3cea_row4_col1\" class=\"data row4 col1\" >0.001498</td>\n",
       "      <td id=\"T_f3cea_row4_col2\" class=\"data row4 col2\" >0.046304</td>\n",
       "      <td id=\"T_f3cea_row4_col3\" class=\"data row4 col3\" >-0.019647</td>\n",
       "      <td id=\"T_f3cea_row4_col4\" class=\"data row4 col4\" >1.000000</td>\n",
       "      <td id=\"T_f3cea_row4_col5\" class=\"data row4 col5\" >0.008532</td>\n",
       "      <td id=\"T_f3cea_row4_col6\" class=\"data row4 col6\" >0.061129</td>\n",
       "      <td id=\"T_f3cea_row4_col7\" class=\"data row4 col7\" >-0.013412</td>\n",
       "    </tr>\n",
       "    <tr>\n",
       "      <th id=\"T_f3cea_level0_row5\" class=\"row_heading level0 row5\" >user_answer</th>\n",
       "      <td id=\"T_f3cea_row5_col0\" class=\"data row5 col0\" >0.000724</td>\n",
       "      <td id=\"T_f3cea_row5_col1\" class=\"data row5 col1\" >0.000156</td>\n",
       "      <td id=\"T_f3cea_row5_col2\" class=\"data row5 col2\" >-0.106668</td>\n",
       "      <td id=\"T_f3cea_row5_col3\" class=\"data row5 col3\" >-0.279818</td>\n",
       "      <td id=\"T_f3cea_row5_col4\" class=\"data row5 col4\" >0.008532</td>\n",
       "      <td id=\"T_f3cea_row5_col5\" class=\"data row5 col5\" >1.000000</td>\n",
       "      <td id=\"T_f3cea_row5_col6\" class=\"data row5 col6\" >0.126471</td>\n",
       "      <td id=\"T_f3cea_row5_col7\" class=\"data row5 col7\" >0.014570</td>\n",
       "    </tr>\n",
       "    <tr>\n",
       "      <th id=\"T_f3cea_level0_row6\" class=\"row_heading level0 row6\" >answered_correctly</th>\n",
       "      <td id=\"T_f3cea_row6_col0\" class=\"data row6 col0\" >0.025452</td>\n",
       "      <td id=\"T_f3cea_row6_col1\" class=\"data row6 col1\" >-0.000307</td>\n",
       "      <td id=\"T_f3cea_row6_col2\" class=\"data row6 col2\" >-0.196960</td>\n",
       "      <td id=\"T_f3cea_row6_col3\" class=\"data row6 col3\" >-0.436912</td>\n",
       "      <td id=\"T_f3cea_row6_col4\" class=\"data row6 col4\" >0.061129</td>\n",
       "      <td id=\"T_f3cea_row6_col5\" class=\"data row6 col5\" >0.126471</td>\n",
       "      <td id=\"T_f3cea_row6_col6\" class=\"data row6 col6\" >1.000000</td>\n",
       "      <td id=\"T_f3cea_row6_col7\" class=\"data row6 col7\" >-0.007900</td>\n",
       "    </tr>\n",
       "    <tr>\n",
       "      <th id=\"T_f3cea_level0_row7\" class=\"row_heading level0 row7\" >prior_question_elapsed_time</th>\n",
       "      <td id=\"T_f3cea_row7_col0\" class=\"data row7 col0\" >0.013934</td>\n",
       "      <td id=\"T_f3cea_row7_col1\" class=\"data row7 col1\" >0.000308</td>\n",
       "      <td id=\"T_f3cea_row7_col2\" class=\"data row7 col2\" >0.151661</td>\n",
       "      <td id=\"T_f3cea_row7_col3\" class=\"data row7 col3\" >nan</td>\n",
       "      <td id=\"T_f3cea_row7_col4\" class=\"data row7 col4\" >-0.013412</td>\n",
       "      <td id=\"T_f3cea_row7_col5\" class=\"data row7 col5\" >0.014570</td>\n",
       "      <td id=\"T_f3cea_row7_col6\" class=\"data row7 col6\" >-0.007900</td>\n",
       "      <td id=\"T_f3cea_row7_col7\" class=\"data row7 col7\" >1.000000</td>\n",
       "    </tr>\n",
       "  </tbody>\n",
       "</table>\n"
      ],
      "text/plain": [
       "<pandas.io.formats.style.Styler at 0x25eff0da170>"
      ]
     },
     "execution_count": 99,
     "metadata": {},
     "output_type": "execute_result"
    }
   ],
   "source": [
    "cm = sns.color_palette(\"vlag\", as_cmap = True)\n",
    "df_corr = df.loc[:,['timestamp', 'user_id', 'content_id', 'content_type_id', 'task_container_id', 'user_answer', 'answered_correctly', 'prior_question_elapsed_time']]\n",
    "df_corr.corr().style.background_gradient(cmap = cm, vmin = -1, vmax = 1)"
   ]
  },
  {
   "cell_type": "markdown",
   "metadata": {},
   "source": [
    "### Добавляем столбец соотношения кол-ва правильных ответов к количеству ответов студентов и выведем обновленную корреляцию числовых признаков"
   ]
  },
  {
   "cell_type": "code",
   "execution_count": 100,
   "metadata": {},
   "outputs": [
    {
     "data": {
      "text/html": [
       "<style type=\"text/css\">\n",
       "#T_0a1de_row0_col0, #T_0a1de_row1_col1, #T_0a1de_row2_col2, #T_0a1de_row3_col3, #T_0a1de_row4_col4, #T_0a1de_row5_col5, #T_0a1de_row6_col6, #T_0a1de_row7_col7, #T_0a1de_row8_col8 {\n",
       "  background-color: #a9373b;\n",
       "  color: #f1f1f1;\n",
       "}\n",
       "#T_0a1de_row0_col1, #T_0a1de_row1_col0, #T_0a1de_row1_col3, #T_0a1de_row1_col6, #T_0a1de_row1_col8, #T_0a1de_row3_col1, #T_0a1de_row4_col7, #T_0a1de_row6_col1, #T_0a1de_row6_col7, #T_0a1de_row7_col4, #T_0a1de_row7_col6, #T_0a1de_row8_col1 {\n",
       "  background-color: #faf5f5;\n",
       "  color: #000000;\n",
       "}\n",
       "#T_0a1de_row0_col2, #T_0a1de_row2_col0 {\n",
       "  background-color: #faf0ef;\n",
       "  color: #000000;\n",
       "}\n",
       "#T_0a1de_row0_col3, #T_0a1de_row0_col5, #T_0a1de_row0_col7, #T_0a1de_row1_col2, #T_0a1de_row1_col4, #T_0a1de_row1_col5, #T_0a1de_row1_col7, #T_0a1de_row2_col1, #T_0a1de_row3_col0, #T_0a1de_row4_col1, #T_0a1de_row4_col5, #T_0a1de_row5_col0, #T_0a1de_row5_col1, #T_0a1de_row5_col4, #T_0a1de_row5_col7, #T_0a1de_row7_col0, #T_0a1de_row7_col1, #T_0a1de_row7_col5 {\n",
       "  background-color: #faf5f4;\n",
       "  color: #000000;\n",
       "}\n",
       "#T_0a1de_row0_col4, #T_0a1de_row4_col0 {\n",
       "  background-color: #d9a5a2;\n",
       "  color: #000000;\n",
       "}\n",
       "#T_0a1de_row0_col6, #T_0a1de_row0_col8, #T_0a1de_row6_col0, #T_0a1de_row8_col0 {\n",
       "  background-color: #faf3f3;\n",
       "  color: #000000;\n",
       "}\n",
       "#T_0a1de_row2_col3, #T_0a1de_row3_col2 {\n",
       "  background-color: #daa8a5;\n",
       "  color: #000000;\n",
       "}\n",
       "#T_0a1de_row2_col4, #T_0a1de_row4_col2, #T_0a1de_row4_col8, #T_0a1de_row8_col4 {\n",
       "  background-color: #faf2f1;\n",
       "  color: #000000;\n",
       "}\n",
       "#T_0a1de_row2_col5, #T_0a1de_row5_col2 {\n",
       "  background-color: #ecebef;\n",
       "  color: #000000;\n",
       "}\n",
       "#T_0a1de_row2_col6, #T_0a1de_row6_col2 {\n",
       "  background-color: #d9dce5;\n",
       "  color: #000000;\n",
       "}\n",
       "#T_0a1de_row2_col7, #T_0a1de_row7_col2 {\n",
       "  background-color: #f1dddb;\n",
       "  color: #000000;\n",
       "}\n",
       "#T_0a1de_row2_col8, #T_0a1de_row8_col2 {\n",
       "  background-color: #f7ebea;\n",
       "  color: #000000;\n",
       "}\n",
       "#T_0a1de_row3_col4, #T_0a1de_row4_col3, #T_0a1de_row7_col8, #T_0a1de_row8_col7 {\n",
       "  background-color: #f9f5f5;\n",
       "  color: #000000;\n",
       "}\n",
       "#T_0a1de_row3_col5, #T_0a1de_row5_col3 {\n",
       "  background-color: #c8cfdd;\n",
       "  color: #000000;\n",
       "}\n",
       "#T_0a1de_row3_col6, #T_0a1de_row6_col3 {\n",
       "  background-color: #a8b7cf;\n",
       "  color: #000000;\n",
       "}\n",
       "#T_0a1de_row3_col7, #T_0a1de_row7_col3 {\n",
       "  background-color: #000000;\n",
       "  color: #f1f1f1;\n",
       "}\n",
       "#T_0a1de_row3_col8, #T_0a1de_row8_col3 {\n",
       "  background-color: #e8cac8;\n",
       "  color: #000000;\n",
       "}\n",
       "#T_0a1de_row4_col6, #T_0a1de_row6_col4 {\n",
       "  background-color: #f9efee;\n",
       "  color: #000000;\n",
       "}\n",
       "#T_0a1de_row5_col6, #T_0a1de_row6_col5 {\n",
       "  background-color: #f3e2e0;\n",
       "  color: #000000;\n",
       "}\n",
       "#T_0a1de_row5_col8, #T_0a1de_row8_col5 {\n",
       "  background-color: #95a9c8;\n",
       "  color: #f1f1f1;\n",
       "}\n",
       "#T_0a1de_row6_col8, #T_0a1de_row8_col6 {\n",
       "  background-color: #d1918e;\n",
       "  color: #f1f1f1;\n",
       "}\n",
       "</style>\n",
       "<table id=\"T_0a1de\">\n",
       "  <thead>\n",
       "    <tr>\n",
       "      <th class=\"blank level0\" >&nbsp;</th>\n",
       "      <th id=\"T_0a1de_level0_col0\" class=\"col_heading level0 col0\" >timestamp</th>\n",
       "      <th id=\"T_0a1de_level0_col1\" class=\"col_heading level0 col1\" >user_id</th>\n",
       "      <th id=\"T_0a1de_level0_col2\" class=\"col_heading level0 col2\" >content_id</th>\n",
       "      <th id=\"T_0a1de_level0_col3\" class=\"col_heading level0 col3\" >content_type_id</th>\n",
       "      <th id=\"T_0a1de_level0_col4\" class=\"col_heading level0 col4\" >task_container_id</th>\n",
       "      <th id=\"T_0a1de_level0_col5\" class=\"col_heading level0 col5\" >user_answer</th>\n",
       "      <th id=\"T_0a1de_level0_col6\" class=\"col_heading level0 col6\" >answered_correctly</th>\n",
       "      <th id=\"T_0a1de_level0_col7\" class=\"col_heading level0 col7\" >prior_question_elapsed_time</th>\n",
       "      <th id=\"T_0a1de_level0_col8\" class=\"col_heading level0 col8\" >cor_ratio</th>\n",
       "    </tr>\n",
       "  </thead>\n",
       "  <tbody>\n",
       "    <tr>\n",
       "      <th id=\"T_0a1de_level0_row0\" class=\"row_heading level0 row0\" >timestamp</th>\n",
       "      <td id=\"T_0a1de_row0_col0\" class=\"data row0 col0\" >1.000000</td>\n",
       "      <td id=\"T_0a1de_row0_col1\" class=\"data row0 col1\" >-0.000041</td>\n",
       "      <td id=\"T_0a1de_row0_col2\" class=\"data row0 col2\" >0.052931</td>\n",
       "      <td id=\"T_0a1de_row0_col3\" class=\"data row0 col3\" >0.000974</td>\n",
       "      <td id=\"T_0a1de_row0_col4\" class=\"data row0 col4\" >0.433359</td>\n",
       "      <td id=\"T_0a1de_row0_col5\" class=\"data row0 col5\" >0.000724</td>\n",
       "      <td id=\"T_0a1de_row0_col6\" class=\"data row0 col6\" >0.025452</td>\n",
       "      <td id=\"T_0a1de_row0_col7\" class=\"data row0 col7\" >0.013934</td>\n",
       "      <td id=\"T_0a1de_row0_col8\" class=\"data row0 col8\" >0.024417</td>\n",
       "    </tr>\n",
       "    <tr>\n",
       "      <th id=\"T_0a1de_level0_row1\" class=\"row_heading level0 row1\" >user_id</th>\n",
       "      <td id=\"T_0a1de_row1_col0\" class=\"data row1 col0\" >-0.000041</td>\n",
       "      <td id=\"T_0a1de_row1_col1\" class=\"data row1 col1\" >1.000000</td>\n",
       "      <td id=\"T_0a1de_row1_col2\" class=\"data row1 col2\" >0.000868</td>\n",
       "      <td id=\"T_0a1de_row1_col3\" class=\"data row1 col3\" >-0.000150</td>\n",
       "      <td id=\"T_0a1de_row1_col4\" class=\"data row1 col4\" >0.001498</td>\n",
       "      <td id=\"T_0a1de_row1_col5\" class=\"data row1 col5\" >0.000156</td>\n",
       "      <td id=\"T_0a1de_row1_col6\" class=\"data row1 col6\" >-0.000307</td>\n",
       "      <td id=\"T_0a1de_row1_col7\" class=\"data row1 col7\" >0.000308</td>\n",
       "      <td id=\"T_0a1de_row1_col8\" class=\"data row1 col8\" >-0.000491</td>\n",
       "    </tr>\n",
       "    <tr>\n",
       "      <th id=\"T_0a1de_level0_row2\" class=\"row_heading level0 row2\" >content_id</th>\n",
       "      <td id=\"T_0a1de_row2_col0\" class=\"data row2 col0\" >0.052931</td>\n",
       "      <td id=\"T_0a1de_row2_col1\" class=\"data row2 col1\" >0.000868</td>\n",
       "      <td id=\"T_0a1de_row2_col2\" class=\"data row2 col2\" >1.000000</td>\n",
       "      <td id=\"T_0a1de_row2_col3\" class=\"data row2 col3\" >0.414640</td>\n",
       "      <td id=\"T_0a1de_row2_col4\" class=\"data row2 col4\" >0.046304</td>\n",
       "      <td id=\"T_0a1de_row2_col5\" class=\"data row2 col5\" >-0.106668</td>\n",
       "      <td id=\"T_0a1de_row2_col6\" class=\"data row2 col6\" >-0.196960</td>\n",
       "      <td id=\"T_0a1de_row2_col7\" class=\"data row2 col7\" >0.151661</td>\n",
       "      <td id=\"T_0a1de_row2_col8\" class=\"data row2 col8\" >0.078863</td>\n",
       "    </tr>\n",
       "    <tr>\n",
       "      <th id=\"T_0a1de_level0_row3\" class=\"row_heading level0 row3\" >content_type_id</th>\n",
       "      <td id=\"T_0a1de_row3_col0\" class=\"data row3 col0\" >0.000974</td>\n",
       "      <td id=\"T_0a1de_row3_col1\" class=\"data row3 col1\" >-0.000150</td>\n",
       "      <td id=\"T_0a1de_row3_col2\" class=\"data row3 col2\" >0.414640</td>\n",
       "      <td id=\"T_0a1de_row3_col3\" class=\"data row3 col3\" >1.000000</td>\n",
       "      <td id=\"T_0a1de_row3_col4\" class=\"data row3 col4\" >-0.019647</td>\n",
       "      <td id=\"T_0a1de_row3_col5\" class=\"data row3 col5\" >-0.279818</td>\n",
       "      <td id=\"T_0a1de_row3_col6\" class=\"data row3 col6\" >-0.436912</td>\n",
       "      <td id=\"T_0a1de_row3_col7\" class=\"data row3 col7\" >nan</td>\n",
       "      <td id=\"T_0a1de_row3_col8\" class=\"data row3 col8\" >0.244676</td>\n",
       "    </tr>\n",
       "    <tr>\n",
       "      <th id=\"T_0a1de_level0_row4\" class=\"row_heading level0 row4\" >task_container_id</th>\n",
       "      <td id=\"T_0a1de_row4_col0\" class=\"data row4 col0\" >0.433359</td>\n",
       "      <td id=\"T_0a1de_row4_col1\" class=\"data row4 col1\" >0.001498</td>\n",
       "      <td id=\"T_0a1de_row4_col2\" class=\"data row4 col2\" >0.046304</td>\n",
       "      <td id=\"T_0a1de_row4_col3\" class=\"data row4 col3\" >-0.019647</td>\n",
       "      <td id=\"T_0a1de_row4_col4\" class=\"data row4 col4\" >1.000000</td>\n",
       "      <td id=\"T_0a1de_row4_col5\" class=\"data row4 col5\" >0.008532</td>\n",
       "      <td id=\"T_0a1de_row4_col6\" class=\"data row4 col6\" >0.061129</td>\n",
       "      <td id=\"T_0a1de_row4_col7\" class=\"data row4 col7\" >-0.013412</td>\n",
       "      <td id=\"T_0a1de_row4_col8\" class=\"data row4 col8\" >0.039900</td>\n",
       "    </tr>\n",
       "    <tr>\n",
       "      <th id=\"T_0a1de_level0_row5\" class=\"row_heading level0 row5\" >user_answer</th>\n",
       "      <td id=\"T_0a1de_row5_col0\" class=\"data row5 col0\" >0.000724</td>\n",
       "      <td id=\"T_0a1de_row5_col1\" class=\"data row5 col1\" >0.000156</td>\n",
       "      <td id=\"T_0a1de_row5_col2\" class=\"data row5 col2\" >-0.106668</td>\n",
       "      <td id=\"T_0a1de_row5_col3\" class=\"data row5 col3\" >-0.279818</td>\n",
       "      <td id=\"T_0a1de_row5_col4\" class=\"data row5 col4\" >0.008532</td>\n",
       "      <td id=\"T_0a1de_row5_col5\" class=\"data row5 col5\" >1.000000</td>\n",
       "      <td id=\"T_0a1de_row5_col6\" class=\"data row5 col6\" >0.126471</td>\n",
       "      <td id=\"T_0a1de_row5_col7\" class=\"data row5 col7\" >0.014570</td>\n",
       "      <td id=\"T_0a1de_row5_col8\" class=\"data row5 col8\" >-0.529601</td>\n",
       "    </tr>\n",
       "    <tr>\n",
       "      <th id=\"T_0a1de_level0_row6\" class=\"row_heading level0 row6\" >answered_correctly</th>\n",
       "      <td id=\"T_0a1de_row6_col0\" class=\"data row6 col0\" >0.025452</td>\n",
       "      <td id=\"T_0a1de_row6_col1\" class=\"data row6 col1\" >-0.000307</td>\n",
       "      <td id=\"T_0a1de_row6_col2\" class=\"data row6 col2\" >-0.196960</td>\n",
       "      <td id=\"T_0a1de_row6_col3\" class=\"data row6 col3\" >-0.436912</td>\n",
       "      <td id=\"T_0a1de_row6_col4\" class=\"data row6 col4\" >0.061129</td>\n",
       "      <td id=\"T_0a1de_row6_col5\" class=\"data row6 col5\" >0.126471</td>\n",
       "      <td id=\"T_0a1de_row6_col6\" class=\"data row6 col6\" >1.000000</td>\n",
       "      <td id=\"T_0a1de_row6_col7\" class=\"data row6 col7\" >-0.007900</td>\n",
       "      <td id=\"T_0a1de_row6_col8\" class=\"data row6 col8\" >0.532950</td>\n",
       "    </tr>\n",
       "    <tr>\n",
       "      <th id=\"T_0a1de_level0_row7\" class=\"row_heading level0 row7\" >prior_question_elapsed_time</th>\n",
       "      <td id=\"T_0a1de_row7_col0\" class=\"data row7 col0\" >0.013934</td>\n",
       "      <td id=\"T_0a1de_row7_col1\" class=\"data row7 col1\" >0.000308</td>\n",
       "      <td id=\"T_0a1de_row7_col2\" class=\"data row7 col2\" >0.151661</td>\n",
       "      <td id=\"T_0a1de_row7_col3\" class=\"data row7 col3\" >nan</td>\n",
       "      <td id=\"T_0a1de_row7_col4\" class=\"data row7 col4\" >-0.013412</td>\n",
       "      <td id=\"T_0a1de_row7_col5\" class=\"data row7 col5\" >0.014570</td>\n",
       "      <td id=\"T_0a1de_row7_col6\" class=\"data row7 col6\" >-0.007900</td>\n",
       "      <td id=\"T_0a1de_row7_col7\" class=\"data row7 col7\" >1.000000</td>\n",
       "      <td id=\"T_0a1de_row7_col8\" class=\"data row7 col8\" >-0.016830</td>\n",
       "    </tr>\n",
       "    <tr>\n",
       "      <th id=\"T_0a1de_level0_row8\" class=\"row_heading level0 row8\" >cor_ratio</th>\n",
       "      <td id=\"T_0a1de_row8_col0\" class=\"data row8 col0\" >0.024417</td>\n",
       "      <td id=\"T_0a1de_row8_col1\" class=\"data row8 col1\" >-0.000491</td>\n",
       "      <td id=\"T_0a1de_row8_col2\" class=\"data row8 col2\" >0.078863</td>\n",
       "      <td id=\"T_0a1de_row8_col3\" class=\"data row8 col3\" >0.244676</td>\n",
       "      <td id=\"T_0a1de_row8_col4\" class=\"data row8 col4\" >0.039900</td>\n",
       "      <td id=\"T_0a1de_row8_col5\" class=\"data row8 col5\" >-0.529601</td>\n",
       "      <td id=\"T_0a1de_row8_col6\" class=\"data row8 col6\" >0.532950</td>\n",
       "      <td id=\"T_0a1de_row8_col7\" class=\"data row8 col7\" >-0.016830</td>\n",
       "      <td id=\"T_0a1de_row8_col8\" class=\"data row8 col8\" >1.000000</td>\n",
       "    </tr>\n",
       "  </tbody>\n",
       "</table>\n"
      ],
      "text/plain": [
       "<pandas.io.formats.style.Styler at 0x260ead37fd0>"
      ]
     },
     "execution_count": 100,
     "metadata": {},
     "output_type": "execute_result"
    }
   ],
   "source": [
    "df_corr['cor_ratio'] = df_corr.answered_correctly / df_corr.user_answer\n",
    "df_corr.corr().style.background_gradient(cmap = cm, vmin = -1, vmax = 1)"
   ]
  },
  {
   "cell_type": "markdown",
   "metadata": {},
   "source": [
    "### Удаляем ненужные столбцы и выведем обновленную корреляцию числовых признаков"
   ]
  },
  {
   "cell_type": "code",
   "execution_count": 101,
   "metadata": {},
   "outputs": [
    {
     "data": {
      "text/html": [
       "<style type=\"text/css\">\n",
       "#T_68d31_row0_col0, #T_68d31_row1_col1, #T_68d31_row2_col2, #T_68d31_row3_col3 {\n",
       "  background-color: #a9373b;\n",
       "  color: #f1f1f1;\n",
       "}\n",
       "#T_68d31_row0_col1, #T_68d31_row1_col0 {\n",
       "  background-color: #c8cfdd;\n",
       "  color: #000000;\n",
       "}\n",
       "#T_68d31_row0_col2, #T_68d31_row2_col0 {\n",
       "  background-color: #a8b7cf;\n",
       "  color: #000000;\n",
       "}\n",
       "#T_68d31_row0_col3, #T_68d31_row3_col0 {\n",
       "  background-color: #e8cac8;\n",
       "  color: #000000;\n",
       "}\n",
       "#T_68d31_row1_col2, #T_68d31_row2_col1 {\n",
       "  background-color: #f3e2e0;\n",
       "  color: #000000;\n",
       "}\n",
       "#T_68d31_row1_col3, #T_68d31_row3_col1 {\n",
       "  background-color: #95a9c8;\n",
       "  color: #f1f1f1;\n",
       "}\n",
       "#T_68d31_row2_col3, #T_68d31_row3_col2 {\n",
       "  background-color: #d1918e;\n",
       "  color: #f1f1f1;\n",
       "}\n",
       "</style>\n",
       "<table id=\"T_68d31\">\n",
       "  <thead>\n",
       "    <tr>\n",
       "      <th class=\"blank level0\" >&nbsp;</th>\n",
       "      <th id=\"T_68d31_level0_col0\" class=\"col_heading level0 col0\" >content_type_id</th>\n",
       "      <th id=\"T_68d31_level0_col1\" class=\"col_heading level0 col1\" >user_answer</th>\n",
       "      <th id=\"T_68d31_level0_col2\" class=\"col_heading level0 col2\" >answered_correctly</th>\n",
       "      <th id=\"T_68d31_level0_col3\" class=\"col_heading level0 col3\" >cor_ratio</th>\n",
       "    </tr>\n",
       "  </thead>\n",
       "  <tbody>\n",
       "    <tr>\n",
       "      <th id=\"T_68d31_level0_row0\" class=\"row_heading level0 row0\" >content_type_id</th>\n",
       "      <td id=\"T_68d31_row0_col0\" class=\"data row0 col0\" >1.000000</td>\n",
       "      <td id=\"T_68d31_row0_col1\" class=\"data row0 col1\" >-0.279818</td>\n",
       "      <td id=\"T_68d31_row0_col2\" class=\"data row0 col2\" >-0.436912</td>\n",
       "      <td id=\"T_68d31_row0_col3\" class=\"data row0 col3\" >0.244676</td>\n",
       "    </tr>\n",
       "    <tr>\n",
       "      <th id=\"T_68d31_level0_row1\" class=\"row_heading level0 row1\" >user_answer</th>\n",
       "      <td id=\"T_68d31_row1_col0\" class=\"data row1 col0\" >-0.279818</td>\n",
       "      <td id=\"T_68d31_row1_col1\" class=\"data row1 col1\" >1.000000</td>\n",
       "      <td id=\"T_68d31_row1_col2\" class=\"data row1 col2\" >0.126471</td>\n",
       "      <td id=\"T_68d31_row1_col3\" class=\"data row1 col3\" >-0.529601</td>\n",
       "    </tr>\n",
       "    <tr>\n",
       "      <th id=\"T_68d31_level0_row2\" class=\"row_heading level0 row2\" >answered_correctly</th>\n",
       "      <td id=\"T_68d31_row2_col0\" class=\"data row2 col0\" >-0.436912</td>\n",
       "      <td id=\"T_68d31_row2_col1\" class=\"data row2 col1\" >0.126471</td>\n",
       "      <td id=\"T_68d31_row2_col2\" class=\"data row2 col2\" >1.000000</td>\n",
       "      <td id=\"T_68d31_row2_col3\" class=\"data row2 col3\" >0.532950</td>\n",
       "    </tr>\n",
       "    <tr>\n",
       "      <th id=\"T_68d31_level0_row3\" class=\"row_heading level0 row3\" >cor_ratio</th>\n",
       "      <td id=\"T_68d31_row3_col0\" class=\"data row3 col0\" >0.244676</td>\n",
       "      <td id=\"T_68d31_row3_col1\" class=\"data row3 col1\" >-0.529601</td>\n",
       "      <td id=\"T_68d31_row3_col2\" class=\"data row3 col2\" >0.532950</td>\n",
       "      <td id=\"T_68d31_row3_col3\" class=\"data row3 col3\" >1.000000</td>\n",
       "    </tr>\n",
       "  </tbody>\n",
       "</table>\n"
      ],
      "text/plain": [
       "<pandas.io.formats.style.Styler at 0x25eff1a7cd0>"
      ]
     },
     "execution_count": 101,
     "metadata": {},
     "output_type": "execute_result"
    }
   ],
   "source": [
    "df_corr.drop(df_corr.columns[[0, 1, 2, 4, 7]], axis = 1, inplace = True)\n",
    "df_corr.corr().style.background_gradient(cmap = cm, vmin = -1, vmax = 1)"
   ]
  },
  {
   "cell_type": "markdown",
   "metadata": {},
   "source": [
    "### Теперь выведем распределение успеваемости студентов"
   ]
  },
  {
   "cell_type": "code",
   "execution_count": 102,
   "metadata": {},
   "outputs": [
    {
     "data": {
      "text/plain": [
       "<AxesSubplot: xlabel='cor_ratio', ylabel='Count'>"
      ]
     },
     "execution_count": 102,
     "metadata": {},
     "output_type": "execute_result"
    },
    {
     "data": {
      "image/png": "[encoded data removed]",
      "text/plain": [
       "<Figure size 640x480 with 1 Axes>"
      ]
     },
     "metadata": {},
     "output_type": "display_data"
    }
   ],
   "source": [
    "sns.histplot(data = df_corr, x = 'cor_ratio', hue = 'content_type_id', bins = 10)"
   ]
  },
  {
   "cell_type": "markdown",
   "metadata": {},
   "source": [
    "### По представленной корреляции числовых признаков видно, что помимо исходных для неё признаков успеваемость слабо зависит от типа контента (вопрос или лекция)."
   ]
  },
  {
   "cell_type": "markdown",
   "metadata": {},
   "source": [
    "### Рассмотрим статистику ответов студентов  "
   ]
  },
  {
   "cell_type": "markdown",
   "metadata": {},
   "source": [
    "##### Произведем поиск уникальных индетификаторов студентов"
   ]
  },
  {
   "cell_type": "code",
   "execution_count": 103,
   "metadata": {},
   "outputs": [
    {
     "data": {
      "text/plain": [
       "user_id    393656\n",
       "dtype: int64"
      ]
     },
     "execution_count": 103,
     "metadata": {},
     "output_type": "execute_result"
    }
   ],
   "source": [
    "df.agg({'user_id': pd.Series.nunique}) "
   ]
  },
  {
   "cell_type": "markdown",
   "metadata": {},
   "source": [
    "##### Сгруппируем общее кол-во ответов и кол-во правильных ответов каждого студента по его идентификатору в датафрейм unique_df"
   ]
  },
  {
   "cell_type": "code",
   "execution_count": 104,
   "metadata": {},
   "outputs": [
    {
     "data": {
      "text/html": [
       "<div>\n",
       "<style scoped>\n",
       "    .dataframe tbody tr th:only-of-type {\n",
       "        vertical-align: middle;\n",
       "    }\n",
       "\n",
       "    .dataframe tbody tr th {\n",
       "        vertical-align: top;\n",
       "    }\n",
       "\n",
       "    .dataframe thead th {\n",
       "        text-align: right;\n",
       "    }\n",
       "</style>\n",
       "<table border=\"1\" class=\"dataframe\">\n",
       "  <thead>\n",
       "    <tr style=\"text-align: right;\">\n",
       "      <th></th>\n",
       "      <th>user_id</th>\n",
       "      <th>user_answer</th>\n",
       "      <th>answered_correctly</th>\n",
       "    </tr>\n",
       "  </thead>\n",
       "  <tbody>\n",
       "    <tr>\n",
       "      <th>0</th>\n",
       "      <td>115</td>\n",
       "      <td>72</td>\n",
       "      <td>32</td>\n",
       "    </tr>\n",
       "    <tr>\n",
       "      <th>1</th>\n",
       "      <td>124</td>\n",
       "      <td>49</td>\n",
       "      <td>7</td>\n",
       "    </tr>\n",
       "    <tr>\n",
       "      <th>2</th>\n",
       "      <td>2746</td>\n",
       "      <td>31</td>\n",
       "      <td>10</td>\n",
       "    </tr>\n",
       "    <tr>\n",
       "      <th>3</th>\n",
       "      <td>5382</td>\n",
       "      <td>169</td>\n",
       "      <td>81</td>\n",
       "    </tr>\n",
       "    <tr>\n",
       "      <th>4</th>\n",
       "      <td>8623</td>\n",
       "      <td>149</td>\n",
       "      <td>67</td>\n",
       "    </tr>\n",
       "  </tbody>\n",
       "</table>\n",
       "</div>"
      ],
      "text/plain": [
       "   user_id  user_answer  answered_correctly\n",
       "0      115           72                  32\n",
       "1      124           49                   7\n",
       "2     2746           31                  10\n",
       "3     5382          169                  81\n",
       "4     8623          149                  67"
      ]
     },
     "execution_count": 104,
     "metadata": {},
     "output_type": "execute_result"
    }
   ],
   "source": [
    "unique_df = df[['user_id', 'user_answer', 'answered_correctly']].groupby(['user_id'], as_index = False).sum()\n",
    "unique_df.head()\n"
   ]
  },
  {
   "cell_type": "markdown",
   "metadata": {},
   "source": [
    "##### Выведем статистику датафрейма unique_df"
   ]
  },
  {
   "cell_type": "code",
   "execution_count": 105,
   "metadata": {},
   "outputs": [
    {
     "data": {
      "text/html": [
       "<div>\n",
       "<style scoped>\n",
       "    .dataframe tbody tr th:only-of-type {\n",
       "        vertical-align: middle;\n",
       "    }\n",
       "\n",
       "    .dataframe tbody tr th {\n",
       "        vertical-align: top;\n",
       "    }\n",
       "\n",
       "    .dataframe thead th {\n",
       "        text-align: right;\n",
       "    }\n",
       "</style>\n",
       "<table border=\"1\" class=\"dataframe\">\n",
       "  <thead>\n",
       "    <tr style=\"text-align: right;\">\n",
       "      <th></th>\n",
       "      <th>user_id</th>\n",
       "      <th>user_answer</th>\n",
       "      <th>answered_correctly</th>\n",
       "    </tr>\n",
       "  </thead>\n",
       "  <tbody>\n",
       "    <tr>\n",
       "      <th>count</th>\n",
       "      <td>3.936560e+05</td>\n",
       "      <td>393656.000000</td>\n",
       "      <td>393656.000000</td>\n",
       "    </tr>\n",
       "    <tr>\n",
       "      <th>mean</th>\n",
       "      <td>1.076358e+09</td>\n",
       "      <td>353.875889</td>\n",
       "      <td>160.763700</td>\n",
       "    </tr>\n",
       "    <tr>\n",
       "      <th>std</th>\n",
       "      <td>6.201319e+08</td>\n",
       "      <td>1038.467530</td>\n",
       "      <td>507.219402</td>\n",
       "    </tr>\n",
       "    <tr>\n",
       "      <th>min</th>\n",
       "      <td>1.150000e+02</td>\n",
       "      <td>0.000000</td>\n",
       "      <td>-11.000000</td>\n",
       "    </tr>\n",
       "    <tr>\n",
       "      <th>25%</th>\n",
       "      <td>5.387596e+08</td>\n",
       "      <td>37.000000</td>\n",
       "      <td>11.000000</td>\n",
       "    </tr>\n",
       "    <tr>\n",
       "      <th>50%</th>\n",
       "      <td>1.077717e+09</td>\n",
       "      <td>60.000000</td>\n",
       "      <td>23.000000</td>\n",
       "    </tr>\n",
       "    <tr>\n",
       "      <th>75%</th>\n",
       "      <td>1.613533e+09</td>\n",
       "      <td>214.000000</td>\n",
       "      <td>92.000000</td>\n",
       "    </tr>\n",
       "    <tr>\n",
       "      <th>max</th>\n",
       "      <td>2.147483e+09</td>\n",
       "      <td>25162.000000</td>\n",
       "      <td>14229.000000</td>\n",
       "    </tr>\n",
       "  </tbody>\n",
       "</table>\n",
       "</div>"
      ],
      "text/plain": [
       "            user_id    user_answer  answered_correctly\n",
       "count  3.936560e+05  393656.000000       393656.000000\n",
       "mean   1.076358e+09     353.875889          160.763700\n",
       "std    6.201319e+08    1038.467530          507.219402\n",
       "min    1.150000e+02       0.000000          -11.000000\n",
       "25%    5.387596e+08      37.000000           11.000000\n",
       "50%    1.077717e+09      60.000000           23.000000\n",
       "75%    1.613533e+09     214.000000           92.000000\n",
       "max    2.147483e+09   25162.000000        14229.000000"
      ]
     },
     "execution_count": 105,
     "metadata": {},
     "output_type": "execute_result"
    }
   ],
   "source": [
    "unique_df.describe()"
   ]
  },
  {
   "cell_type": "markdown",
   "metadata": {},
   "source": [
    "##### Создадим функцию которая произведет сокращение разброса количества ответов студентов"
   ]
  },
  {
   "cell_type": "code",
   "execution_count": 63,
   "metadata": {},
   "outputs": [
    {
     "data": {
      "text/html": [
       "<div>\n",
       "<style scoped>\n",
       "    .dataframe tbody tr th:only-of-type {\n",
       "        vertical-align: middle;\n",
       "    }\n",
       "\n",
       "    .dataframe tbody tr th {\n",
       "        vertical-align: top;\n",
       "    }\n",
       "\n",
       "    .dataframe thead th {\n",
       "        text-align: right;\n",
       "    }\n",
       "</style>\n",
       "<table border=\"1\" class=\"dataframe\">\n",
       "  <thead>\n",
       "    <tr style=\"text-align: right;\">\n",
       "      <th></th>\n",
       "      <th>user_id</th>\n",
       "      <th>user_answer</th>\n",
       "      <th>answered_correctly</th>\n",
       "      <th>cor_ratio</th>\n",
       "    </tr>\n",
       "  </thead>\n",
       "  <tbody>\n",
       "    <tr>\n",
       "      <th>0</th>\n",
       "      <td>115</td>\n",
       "      <td>72</td>\n",
       "      <td>32</td>\n",
       "      <td>0.444444</td>\n",
       "    </tr>\n",
       "    <tr>\n",
       "      <th>1</th>\n",
       "      <td>124</td>\n",
       "      <td>49</td>\n",
       "      <td>7</td>\n",
       "      <td>0.142857</td>\n",
       "    </tr>\n",
       "    <tr>\n",
       "      <th>2</th>\n",
       "      <td>2746</td>\n",
       "      <td>31</td>\n",
       "      <td>10</td>\n",
       "      <td>0.322581</td>\n",
       "    </tr>\n",
       "    <tr>\n",
       "      <th>3</th>\n",
       "      <td>5382</td>\n",
       "      <td>169</td>\n",
       "      <td>81</td>\n",
       "      <td>0.479290</td>\n",
       "    </tr>\n",
       "    <tr>\n",
       "      <th>4</th>\n",
       "      <td>8623</td>\n",
       "      <td>149</td>\n",
       "      <td>67</td>\n",
       "      <td>0.449664</td>\n",
       "    </tr>\n",
       "    <tr>\n",
       "      <th>...</th>\n",
       "      <td>...</td>\n",
       "      <td>...</td>\n",
       "      <td>...</td>\n",
       "      <td>...</td>\n",
       "    </tr>\n",
       "    <tr>\n",
       "      <th>3819</th>\n",
       "      <td>20913319</td>\n",
       "      <td>575</td>\n",
       "      <td>233</td>\n",
       "      <td>0.405217</td>\n",
       "    </tr>\n",
       "    <tr>\n",
       "      <th>3820</th>\n",
       "      <td>20913864</td>\n",
       "      <td>20</td>\n",
       "      <td>7</td>\n",
       "      <td>0.350000</td>\n",
       "    </tr>\n",
       "    <tr>\n",
       "      <th>3821</th>\n",
       "      <td>20938253</td>\n",
       "      <td>739</td>\n",
       "      <td>308</td>\n",
       "      <td>0.416779</td>\n",
       "    </tr>\n",
       "    <tr>\n",
       "      <th>3822</th>\n",
       "      <td>20948951</td>\n",
       "      <td>78</td>\n",
       "      <td>31</td>\n",
       "      <td>0.397436</td>\n",
       "    </tr>\n",
       "    <tr>\n",
       "      <th>3823</th>\n",
       "      <td>20949024</td>\n",
       "      <td>71</td>\n",
       "      <td>15</td>\n",
       "      <td>0.211268</td>\n",
       "    </tr>\n",
       "  </tbody>\n",
       "</table>\n",
       "<p>3585 rows × 4 columns</p>\n",
       "</div>"
      ],
      "text/plain": [
       "       user_id  user_answer  answered_correctly  cor_ratio\n",
       "0          115           72                  32   0.444444\n",
       "1          124           49                   7   0.142857\n",
       "2         2746           31                  10   0.322581\n",
       "3         5382          169                  81   0.479290\n",
       "4         8623          149                  67   0.449664\n",
       "...        ...          ...                 ...        ...\n",
       "3819  20913319          575                 233   0.405217\n",
       "3820  20913864           20                   7   0.350000\n",
       "3821  20938253          739                 308   0.416779\n",
       "3822  20948951           78                  31   0.397436\n",
       "3823  20949024           71                  15   0.211268\n",
       "\n",
       "[3585 rows x 4 columns]"
      ]
     },
     "execution_count": 63,
     "metadata": {},
     "output_type": "execute_result"
    }
   ],
   "source": [
    "def rem_emission(df, col, k_std): # задаём функцию сокращения разброса ответов\n",
    "        mean = df[col].mean() # среднее значение переданного столбца col\n",
    "        std_o = df[col].std() # стандартное отклонение переданного столбца col\n",
    "        return df[(df[col] <= mean + (k_std * std_o))]"
   ]
  },
  {
   "cell_type": "markdown",
   "metadata": {},
   "source": [
    "##### Применяем функцию сокращения разброса ответов "
   ]
  },
  {
   "cell_type": "code",
   "execution_count": 106,
   "metadata": {},
   "outputs": [],
   "source": [
    "unique_df = rem_emission(unique_df, 'user_answer', 1) "
   ]
  },
  {
   "cell_type": "markdown",
   "metadata": {},
   "source": [
    "##### Добавляем столбец cor_ratio успеваемости (соотношения кол-ва правильных ответов к общему кол-ву ответов студентов)"
   ]
  },
  {
   "cell_type": "code",
   "execution_count": 107,
   "metadata": {},
   "outputs": [],
   "source": [
    "unique_df['cor_ratio'] = unique_df.answered_correctly / unique_df.user_answer"
   ]
  },
  {
   "cell_type": "markdown",
   "metadata": {},
   "source": [
    "##### А теперь выводим первые 5 и последние 5 строк полученного датафрейма unique_df"
   ]
  },
  {
   "cell_type": "code",
   "execution_count": 108,
   "metadata": {},
   "outputs": [
    {
     "data": {
      "text/html": [
       "<div>\n",
       "<style scoped>\n",
       "    .dataframe tbody tr th:only-of-type {\n",
       "        vertical-align: middle;\n",
       "    }\n",
       "\n",
       "    .dataframe tbody tr th {\n",
       "        vertical-align: top;\n",
       "    }\n",
       "\n",
       "    .dataframe thead th {\n",
       "        text-align: right;\n",
       "    }\n",
       "</style>\n",
       "<table border=\"1\" class=\"dataframe\">\n",
       "  <thead>\n",
       "    <tr style=\"text-align: right;\">\n",
       "      <th></th>\n",
       "      <th>user_id</th>\n",
       "      <th>user_answer</th>\n",
       "      <th>answered_correctly</th>\n",
       "      <th>cor_ratio</th>\n",
       "    </tr>\n",
       "  </thead>\n",
       "  <tbody>\n",
       "    <tr>\n",
       "      <th>0</th>\n",
       "      <td>115</td>\n",
       "      <td>72</td>\n",
       "      <td>32</td>\n",
       "      <td>0.444444</td>\n",
       "    </tr>\n",
       "    <tr>\n",
       "      <th>1</th>\n",
       "      <td>124</td>\n",
       "      <td>49</td>\n",
       "      <td>7</td>\n",
       "      <td>0.142857</td>\n",
       "    </tr>\n",
       "    <tr>\n",
       "      <th>2</th>\n",
       "      <td>2746</td>\n",
       "      <td>31</td>\n",
       "      <td>10</td>\n",
       "      <td>0.322581</td>\n",
       "    </tr>\n",
       "    <tr>\n",
       "      <th>3</th>\n",
       "      <td>5382</td>\n",
       "      <td>169</td>\n",
       "      <td>81</td>\n",
       "      <td>0.479290</td>\n",
       "    </tr>\n",
       "    <tr>\n",
       "      <th>4</th>\n",
       "      <td>8623</td>\n",
       "      <td>149</td>\n",
       "      <td>67</td>\n",
       "      <td>0.449664</td>\n",
       "    </tr>\n",
       "    <tr>\n",
       "      <th>...</th>\n",
       "      <td>...</td>\n",
       "      <td>...</td>\n",
       "      <td>...</td>\n",
       "      <td>...</td>\n",
       "    </tr>\n",
       "    <tr>\n",
       "      <th>393651</th>\n",
       "      <td>2147470770</td>\n",
       "      <td>308</td>\n",
       "      <td>171</td>\n",
       "      <td>0.555195</td>\n",
       "    </tr>\n",
       "    <tr>\n",
       "      <th>393652</th>\n",
       "      <td>2147470777</td>\n",
       "      <td>1066</td>\n",
       "      <td>514</td>\n",
       "      <td>0.482176</td>\n",
       "    </tr>\n",
       "    <tr>\n",
       "      <th>393653</th>\n",
       "      <td>2147481750</td>\n",
       "      <td>52</td>\n",
       "      <td>38</td>\n",
       "      <td>0.730769</td>\n",
       "    </tr>\n",
       "    <tr>\n",
       "      <th>393654</th>\n",
       "      <td>2147482216</td>\n",
       "      <td>363</td>\n",
       "      <td>172</td>\n",
       "      <td>0.473829</td>\n",
       "    </tr>\n",
       "    <tr>\n",
       "      <th>393655</th>\n",
       "      <td>2147482888</td>\n",
       "      <td>38</td>\n",
       "      <td>15</td>\n",
       "      <td>0.394737</td>\n",
       "    </tr>\n",
       "  </tbody>\n",
       "</table>\n",
       "<p>370632 rows × 4 columns</p>\n",
       "</div>"
      ],
      "text/plain": [
       "           user_id  user_answer  answered_correctly  cor_ratio\n",
       "0              115           72                  32   0.444444\n",
       "1              124           49                   7   0.142857\n",
       "2             2746           31                  10   0.322581\n",
       "3             5382          169                  81   0.479290\n",
       "4             8623          149                  67   0.449664\n",
       "...            ...          ...                 ...        ...\n",
       "393651  2147470770          308                 171   0.555195\n",
       "393652  2147470777         1066                 514   0.482176\n",
       "393653  2147481750           52                  38   0.730769\n",
       "393654  2147482216          363                 172   0.473829\n",
       "393655  2147482888           38                  15   0.394737\n",
       "\n",
       "[370632 rows x 4 columns]"
      ]
     },
     "execution_count": 108,
     "metadata": {},
     "output_type": "execute_result"
    }
   ],
   "source": [
    "unique_df"
   ]
  },
  {
   "cell_type": "markdown",
   "metadata": {},
   "source": [
    "##### Выведем обновленную статистику датафрейма unique_df при помощи метода .describe"
   ]
  },
  {
   "cell_type": "code",
   "execution_count": 110,
   "metadata": {},
   "outputs": [
    {
     "data": {
      "text/html": [
       "<div>\n",
       "<style scoped>\n",
       "    .dataframe tbody tr th:only-of-type {\n",
       "        vertical-align: middle;\n",
       "    }\n",
       "\n",
       "    .dataframe tbody tr th {\n",
       "        vertical-align: top;\n",
       "    }\n",
       "\n",
       "    .dataframe thead th {\n",
       "        text-align: right;\n",
       "    }\n",
       "</style>\n",
       "<table border=\"1\" class=\"dataframe\">\n",
       "  <thead>\n",
       "    <tr style=\"text-align: right;\">\n",
       "      <th></th>\n",
       "      <th>user_id</th>\n",
       "      <th>user_answer</th>\n",
       "      <th>answered_correctly</th>\n",
       "      <th>cor_ratio</th>\n",
       "    </tr>\n",
       "  </thead>\n",
       "  <tbody>\n",
       "    <tr>\n",
       "      <th>count</th>\n",
       "      <td>3.706320e+05</td>\n",
       "      <td>370632.000000</td>\n",
       "      <td>370632.000000</td>\n",
       "      <td>3.706150e+05</td>\n",
       "    </tr>\n",
       "    <tr>\n",
       "      <th>mean</th>\n",
       "      <td>1.076382e+09</td>\n",
       "      <td>162.647402</td>\n",
       "      <td>69.718044</td>\n",
       "      <td>inf</td>\n",
       "    </tr>\n",
       "    <tr>\n",
       "      <th>std</th>\n",
       "      <td>6.201116e+08</td>\n",
       "      <td>247.494832</td>\n",
       "      <td>115.027280</td>\n",
       "      <td>NaN</td>\n",
       "    </tr>\n",
       "    <tr>\n",
       "      <th>min</th>\n",
       "      <td>1.150000e+02</td>\n",
       "      <td>0.000000</td>\n",
       "      <td>-11.000000</td>\n",
       "      <td>-1.929825e-01</td>\n",
       "    </tr>\n",
       "    <tr>\n",
       "      <th>25%</th>\n",
       "      <td>5.386172e+08</td>\n",
       "      <td>36.000000</td>\n",
       "      <td>11.000000</td>\n",
       "      <td>2.926829e-01</td>\n",
       "    </tr>\n",
       "    <tr>\n",
       "      <th>50%</th>\n",
       "      <td>1.077896e+09</td>\n",
       "      <td>55.000000</td>\n",
       "      <td>20.000000</td>\n",
       "      <td>3.902439e-01</td>\n",
       "    </tr>\n",
       "    <tr>\n",
       "      <th>75%</th>\n",
       "      <td>1.613481e+09</td>\n",
       "      <td>159.000000</td>\n",
       "      <td>67.000000</td>\n",
       "      <td>4.705882e-01</td>\n",
       "    </tr>\n",
       "    <tr>\n",
       "      <th>max</th>\n",
       "      <td>2.147483e+09</td>\n",
       "      <td>1392.000000</td>\n",
       "      <td>920.000000</td>\n",
       "      <td>inf</td>\n",
       "    </tr>\n",
       "  </tbody>\n",
       "</table>\n",
       "</div>"
      ],
      "text/plain": [
       "            user_id    user_answer  answered_correctly     cor_ratio\n",
       "count  3.706320e+05  370632.000000       370632.000000  3.706150e+05\n",
       "mean   1.076382e+09     162.647402           69.718044           inf\n",
       "std    6.201116e+08     247.494832          115.027280           NaN\n",
       "min    1.150000e+02       0.000000          -11.000000 -1.929825e-01\n",
       "25%    5.386172e+08      36.000000           11.000000  2.926829e-01\n",
       "50%    1.077896e+09      55.000000           20.000000  3.902439e-01\n",
       "75%    1.613481e+09     159.000000           67.000000  4.705882e-01\n",
       "max    2.147483e+09    1392.000000          920.000000           inf"
      ]
     },
     "execution_count": 110,
     "metadata": {},
     "output_type": "execute_result"
    }
   ],
   "source": [
    "unique_df.describe()"
   ]
  },
  {
   "cell_type": "markdown",
   "metadata": {},
   "source": [
    "### Вычисляем медианное значение количества ответов студентов"
   ]
  },
  {
   "cell_type": "code",
   "execution_count": 112,
   "metadata": {},
   "outputs": [
    {
     "name": "stdout",
     "output_type": "stream",
     "text": [
      "Медианное значение количества ответов студентов равняется 55\n"
     ]
    }
   ],
   "source": [
    "unique_med = unique_df.user_answer.median()\n",
    "print('Медианное значение количества ответов студентов равняется', int(unique_med))"
   ]
  },
  {
   "cell_type": "markdown",
   "metadata": {},
   "source": [
    "### Визуализируем данные о количестве ответов студентов"
   ]
  },
  {
   "cell_type": "code",
   "execution_count": 113,
   "metadata": {},
   "outputs": [
    {
     "data": {
      "text/plain": [
       "<AxesSubplot: xlabel='user_answer', ylabel='Count'>"
      ]
     },
     "execution_count": 113,
     "metadata": {},
     "output_type": "execute_result"
    },
    {
     "data": {
      "image/png": "[encoded data removed]",
      "text/plain": [
       "<Figure size 640x480 with 1 Axes>"
      ]
     },
     "metadata": {},
     "output_type": "display_data"
    }
   ],
   "source": [
    "sns.histplot(data = unique_df, x = 'user_answer')"
   ]
  },
  {
   "cell_type": "markdown",
   "metadata": {},
   "source": [
    "##### И видим заметный перекос в интервале от 0 до 100"
   ]
  },
  {
   "cell_type": "markdown",
   "metadata": {},
   "source": [
    "### Выведем распределение количества ответов студентов, которое больше медианного"
   ]
  },
  {
   "cell_type": "code",
   "execution_count": 119,
   "metadata": {},
   "outputs": [
    {
     "name": "stdout",
     "output_type": "stream",
     "text": [
      "0.42748091603053434\n"
     ]
    },
    {
     "data": {
      "text/plain": [
       "<AxesSubplot: >"
      ]
     },
     "execution_count": 119,
     "metadata": {},
     "output_type": "execute_result"
    },
    {
     "data": {
      "image/png": "[encoded data removed]",
      "text/plain": [
       "<Figure size 640x480 with 1 Axes>"
      ]
     },
     "metadata": {},
     "output_type": "display_data"
    }
   ],
   "source": [
    "# Выводим распределение кол-ва ответов студентов, которое больше медианного\n",
    "print(unique_df.query('user_answer > 55')['cor_ratio'].median())\n",
    "unique_df.query('user_answer > 55')['cor_ratio'].hist(bins = 50, color = 'blue')"
   ]
  },
  {
   "cell_type": "markdown",
   "metadata": {},
   "source": [
    "### Выведем распределение количества ответов студентов, которое которое больше 75%"
   ]
  },
  {
   "cell_type": "code",
   "execution_count": 121,
   "metadata": {},
   "outputs": [
    {
     "name": "stdout",
     "output_type": "stream",
     "text": [
      "0.44871794871794873\n"
     ]
    },
    {
     "data": {
      "text/plain": [
       "<AxesSubplot: >"
      ]
     },
     "execution_count": 121,
     "metadata": {},
     "output_type": "execute_result"
    },
    {
     "data": {
      "image/png": "[encoded data removed]",
      "text/plain": [
       "<Figure size 640x480 with 1 Axes>"
      ]
     },
     "metadata": {},
     "output_type": "display_data"
    }
   ],
   "source": [
    "print(unique_df.query('user_answer > 151')['cor_ratio'].median())\n",
    "unique_df.query('user_answer > 151')['cor_ratio'].hist(bins = 50, color = 'brown')"
   ]
  },
  {
   "cell_type": "markdown",
   "metadata": {},
   "source": [
    "### Выведем распределение количества ответов студентов, которое больше 500"
   ]
  },
  {
   "cell_type": "code",
   "execution_count": 137,
   "metadata": {},
   "outputs": [
    {
     "name": "stdout",
     "output_type": "stream",
     "text": [
      "0.45819935691318325\n"
     ]
    },
    {
     "data": {
      "text/plain": [
       "<AxesSubplot: >"
      ]
     },
     "execution_count": 137,
     "metadata": {},
     "output_type": "execute_result"
    },
    {
     "data": {
      "image/png": "[encoded data removed]",
      "text/plain": [
       "<Figure size 640x480 with 1 Axes>"
      ]
     },
     "metadata": {},
     "output_type": "display_data"
    }
   ],
   "source": [
    "print(unique_df.query('user_answer > 500')['cor_ratio'].median())\n",
    "unique_df.query('user_answer > 500')['cor_ratio'].hist(bins = 50, color = 'purple')"
   ]
  },
  {
   "cell_type": "code",
   "execution_count": 144,
   "metadata": {},
   "outputs": [
    {
     "name": "stdout",
     "output_type": "stream",
     "text": [
      "0.42168674698795183\n"
     ]
    },
    {
     "data": {
      "text/plain": [
       "<AxesSubplot: >"
      ]
     },
     "execution_count": 144,
     "metadata": {},
     "output_type": "execute_result"
    },
    {
     "data": {
      "image/png": "[encoded data removed]",
      "text/plain": [
       "<Figure size 640x480 with 1 Axes>"
      ]
     },
     "metadata": {},
     "output_type": "display_data"
    }
   ],
   "source": [
    "print(unique_df.query('0 < user_answer > 50')['cor_ratio'].median())\n",
    "unique_df.query('0 < user_answer > 50')['cor_ratio'].hist(bins = 50, color = 'lightblue')"
   ]
  },
  {
   "cell_type": "markdown",
   "metadata": {},
   "source": [
    "#### По вышепредставленным графикам видно, что студенты, ответившие на меньше медианного значения, справлялись хуже тех, кто ответил больше медианного значения. При этом количество ответов которое выше медианного значения незначительно сказалось на качестве, то есть на числе правильных ответов."
   ]
  },
  {
   "cell_type": "markdown",
   "metadata": {},
   "source": [
    "## Поищем взаимосвязь времени между взаимодействием со студентом и завершением первого события от него, среднего времени ответа на каждый вопрос и количества правильных ответов с общим количеством ответов студентов"
   ]
  },
  {
   "cell_type": "markdown",
   "metadata": {},
   "source": [
    "##### Группируем общее кол-во ответов, кол-во правильных ответов и время ответа на каждый вопрос студентов по их идентификаторам в датафрейм corr_look"
   ]
  },
  {
   "cell_type": "code",
   "execution_count": 145,
   "metadata": {},
   "outputs": [
    {
     "data": {
      "text/html": [
       "<div>\n",
       "<style scoped>\n",
       "    .dataframe tbody tr th:only-of-type {\n",
       "        vertical-align: middle;\n",
       "    }\n",
       "\n",
       "    .dataframe tbody tr th {\n",
       "        vertical-align: top;\n",
       "    }\n",
       "\n",
       "    .dataframe thead th {\n",
       "        text-align: right;\n",
       "    }\n",
       "</style>\n",
       "<table border=\"1\" class=\"dataframe\">\n",
       "  <thead>\n",
       "    <tr style=\"text-align: right;\">\n",
       "      <th></th>\n",
       "      <th>user_answer</th>\n",
       "      <th>timestamp_ratio</th>\n",
       "      <th>elapsed_time_ratio</th>\n",
       "      <th>cor_ratio</th>\n",
       "    </tr>\n",
       "  </thead>\n",
       "  <tbody>\n",
       "    <tr>\n",
       "      <th>0</th>\n",
       "      <td>72</td>\n",
       "      <td>6.524638e+07</td>\n",
       "      <td>12458.319444</td>\n",
       "      <td>0.444444</td>\n",
       "    </tr>\n",
       "    <tr>\n",
       "      <th>1</th>\n",
       "      <td>49</td>\n",
       "      <td>2.252203e+05</td>\n",
       "      <td>11122.387755</td>\n",
       "      <td>0.142857</td>\n",
       "    </tr>\n",
       "    <tr>\n",
       "      <th>2</th>\n",
       "      <td>31</td>\n",
       "      <td>2.472123e+05</td>\n",
       "      <td>10483.870968</td>\n",
       "      <td>0.322581</td>\n",
       "    </tr>\n",
       "    <tr>\n",
       "      <th>3</th>\n",
       "      <td>169</td>\n",
       "      <td>2.879101e+08</td>\n",
       "      <td>26449.704142</td>\n",
       "      <td>0.479290</td>\n",
       "    </tr>\n",
       "    <tr>\n",
       "      <th>4</th>\n",
       "      <td>149</td>\n",
       "      <td>2.615750e+08</td>\n",
       "      <td>18923.489933</td>\n",
       "      <td>0.449664</td>\n",
       "    </tr>\n",
       "    <tr>\n",
       "      <th>...</th>\n",
       "      <td>...</td>\n",
       "      <td>...</td>\n",
       "      <td>...</td>\n",
       "      <td>...</td>\n",
       "    </tr>\n",
       "    <tr>\n",
       "      <th>393651</th>\n",
       "      <td>308</td>\n",
       "      <td>8.478458e+08</td>\n",
       "      <td>16924.224026</td>\n",
       "      <td>0.555195</td>\n",
       "    </tr>\n",
       "    <tr>\n",
       "      <th>393652</th>\n",
       "      <td>1066</td>\n",
       "      <td>8.108421e+09</td>\n",
       "      <td>14109.855535</td>\n",
       "      <td>0.482176</td>\n",
       "    </tr>\n",
       "    <tr>\n",
       "      <th>393653</th>\n",
       "      <td>52</td>\n",
       "      <td>2.110661e+07</td>\n",
       "      <td>16903.846154</td>\n",
       "      <td>0.730769</td>\n",
       "    </tr>\n",
       "    <tr>\n",
       "      <th>393654</th>\n",
       "      <td>363</td>\n",
       "      <td>6.621266e+08</td>\n",
       "      <td>14765.840220</td>\n",
       "      <td>0.473829</td>\n",
       "    </tr>\n",
       "    <tr>\n",
       "      <th>393655</th>\n",
       "      <td>38</td>\n",
       "      <td>1.888598e+08</td>\n",
       "      <td>18605.263158</td>\n",
       "      <td>0.394737</td>\n",
       "    </tr>\n",
       "  </tbody>\n",
       "</table>\n",
       "<p>370632 rows × 4 columns</p>\n",
       "</div>"
      ],
      "text/plain": [
       "        user_answer  timestamp_ratio  elapsed_time_ratio  cor_ratio\n",
       "0                72     6.524638e+07        12458.319444   0.444444\n",
       "1                49     2.252203e+05        11122.387755   0.142857\n",
       "2                31     2.472123e+05        10483.870968   0.322581\n",
       "3               169     2.879101e+08        26449.704142   0.479290\n",
       "4               149     2.615750e+08        18923.489933   0.449664\n",
       "...             ...              ...                 ...        ...\n",
       "393651          308     8.478458e+08        16924.224026   0.555195\n",
       "393652         1066     8.108421e+09        14109.855535   0.482176\n",
       "393653           52     2.110661e+07        16903.846154   0.730769\n",
       "393654          363     6.621266e+08        14765.840220   0.473829\n",
       "393655           38     1.888598e+08        18605.263158   0.394737\n",
       "\n",
       "[370632 rows x 4 columns]"
      ]
     },
     "execution_count": 145,
     "metadata": {},
     "output_type": "execute_result"
    }
   ],
   "source": [
    "corr_look = df[['user_id', 'user_answer', 'answered_correctly', 'timestamp', \\\n",
    "    'prior_question_elapsed_time']].groupby(['user_id'], as_index = False).sum()"
   ]
  },
  {
   "cell_type": "markdown",
   "metadata": {},
   "source": [
    "#### Добавляем столбец timestamp_ratio соотношения времени между взаимодействием со студентом и завершением первого события от него к общему кол-ву ответов студентов"
   ]
  },
  {
   "cell_type": "code",
   "execution_count": null,
   "metadata": {},
   "outputs": [],
   "source": [
    "corr_look['timestamp_ratio'] = corr_look['timestamp'] / corr_look['user_answer']"
   ]
  },
  {
   "cell_type": "markdown",
   "metadata": {},
   "source": [
    "##### Добавляем столбец elapsed_time_ratio соотношения среднего времени ответа на каждый вопрос к общему кол-ву ответов студентов"
   ]
  },
  {
   "cell_type": "code",
   "execution_count": null,
   "metadata": {},
   "outputs": [],
   "source": [
    "corr_look['elapsed_time_ratio'] = corr_look['prior_question_elapsed_time'] / corr_look['user_answer']"
   ]
  },
  {
   "cell_type": "markdown",
   "metadata": {},
   "source": [
    "##### Добавляем столбец cor_ratio успеваемости (соотношения кол-ва правильных ответов к общему кол-ву ответов студентов)"
   ]
  },
  {
   "cell_type": "code",
   "execution_count": null,
   "metadata": {},
   "outputs": [],
   "source": [
    "corr_look['cor_ratio'] = corr_look.answered_correctly / corr_look.user_answer"
   ]
  },
  {
   "cell_type": "markdown",
   "metadata": {},
   "source": [
    "#### Удаляем ненужные столбцы"
   ]
  },
  {
   "cell_type": "code",
   "execution_count": null,
   "metadata": {},
   "outputs": [],
   "source": [
    "corr_look.drop(corr_look.columns[[0, 2, 3, 4]], axis = 1, inplace = True)"
   ]
  },
  {
   "cell_type": "markdown",
   "metadata": {},
   "source": [
    "##### Вызываем функцию сокращения разброса ответов"
   ]
  },
  {
   "cell_type": "code",
   "execution_count": null,
   "metadata": {},
   "outputs": [],
   "source": [
    "corr_look = rem_emission(corr_look, 'user_answer', 1)"
   ]
  },
  {
   "cell_type": "markdown",
   "metadata": {},
   "source": [
    "##### Проверяем произведенную работу функции и выводим выводим первые 5 и последние 5 строк полученного датафрейма corr_look"
   ]
  },
  {
   "cell_type": "code",
   "execution_count": null,
   "metadata": {},
   "outputs": [],
   "source": [
    "corr_look "
   ]
  },
  {
   "cell_type": "code",
   "execution_count": 153,
   "metadata": {},
   "outputs": [
    {
     "ename": "TypeError",
     "evalue": "regplot() got an unexpected keyword argument 'x_label'",
     "output_type": "error",
     "traceback": [
      "\u001b[1;31m---------------------------------------------------------------------------\u001b[0m",
      "\u001b[1;31mTypeError\u001b[0m                                 Traceback (most recent call last)",
      "Cell \u001b[1;32mIn [153], line 2\u001b[0m\n\u001b[0;32m      1\u001b[0m \u001b[38;5;66;03m# Выводим соотношение timestamp_ratio к кол-ву ответов студентов: явной связи не видно\u001b[39;00m\n\u001b[1;32m----> 2\u001b[0m \u001b[43msns\u001b[49m\u001b[38;5;241;43m.\u001b[39;49m\u001b[43mregplot\u001b[49m\u001b[43m(\u001b[49m\u001b[43mdata\u001b[49m\u001b[43m \u001b[49m\u001b[38;5;241;43m=\u001b[39;49m\u001b[43m \u001b[49m\u001b[43mcorr_look\u001b[49m\u001b[43m,\u001b[49m\u001b[43m \u001b[49m\u001b[43mx\u001b[49m\u001b[43m \u001b[49m\u001b[38;5;241;43m=\u001b[39;49m\u001b[43m \u001b[49m\u001b[38;5;124;43m'\u001b[39;49m\u001b[38;5;124;43muser_answer\u001b[39;49m\u001b[38;5;124;43m'\u001b[39;49m\u001b[43m,\u001b[49m\u001b[43m \u001b[49m\u001b[43my\u001b[49m\u001b[43m \u001b[49m\u001b[38;5;241;43m=\u001b[39;49m\u001b[43m \u001b[49m\u001b[38;5;124;43m'\u001b[39;49m\u001b[38;5;124;43mtimestamp_ratio\u001b[39;49m\u001b[38;5;124;43m'\u001b[39;49m\u001b[43m,\u001b[49m\u001b[43m \u001b[49m\u001b[43mcolor\u001b[49m\u001b[43m \u001b[49m\u001b[38;5;241;43m=\u001b[39;49m\u001b[43m \u001b[49m\u001b[38;5;124;43m'\u001b[39;49m\u001b[38;5;124;43mpurple\u001b[39;49m\u001b[38;5;124;43m'\u001b[39;49m\u001b[43m,\u001b[49m\u001b[43m \u001b[49m\u001b[43mx_label\u001b[49m\u001b[38;5;241;43m=\u001b[39;49m\u001b[38;5;124;43m'\u001b[39;49m\u001b[38;5;124;43muser_answer\u001b[39;49m\u001b[38;5;124;43m'\u001b[39;49m\u001b[43m,\u001b[49m\u001b[43m \u001b[49m\u001b[43my_label\u001b[49m\u001b[38;5;241;43m=\u001b[39;49m\u001b[38;5;124;43m'\u001b[39;49m\u001b[38;5;124;43mtimestamp_ratio\u001b[39;49m\u001b[38;5;124;43m'\u001b[39;49m\u001b[43m)\u001b[49m\n",
      "\u001b[1;31mTypeError\u001b[0m: regplot() got an unexpected keyword argument 'x_label'"
     ]
    }
   ],
   "source": [
    "# Выводим соотношение timestamp_ratio к кол-ву ответов студентов: явной связи не видно\n",
    "sns.regplot(data = corr_look, x = 'user_answer', y = 'timestamp_ratio', color = 'purple')"
   ]
  },
  {
   "cell_type": "code",
   "execution_count": 147,
   "metadata": {},
   "outputs": [
    {
     "data": {
      "text/plain": [
       "<AxesSubplot: xlabel='user_answer', ylabel='elapsed_time_ratio'>"
      ]
     },
     "execution_count": 147,
     "metadata": {},
     "output_type": "execute_result"
    },
    {
     "data": {
      "image/png": "[encoded data removed]",
      "text/plain": [
       "<Figure size 640x480 with 1 Axes>"
      ]
     },
     "metadata": {},
     "output_type": "display_data"
    }
   ],
   "source": [
    "# Выводим соотношение elapsed_time_ratio к кол-ву ответов студентов: явной связи не видно\n",
    "sns.regplot(data = corr_look, x = 'user_answer', y = 'elapsed_time_ratio', color = 'blue')"
   ]
  },
  {
   "cell_type": "code",
   "execution_count": 150,
   "metadata": {},
   "outputs": [
    {
     "data": {
      "text/plain": [
       "<AxesSubplot: xlabel='timestamp_ratio', ylabel='cor_ratio'>"
      ]
     },
     "execution_count": 150,
     "metadata": {},
     "output_type": "execute_result"
    },
    {
     "data": {
      "image/png": "[encoded data removed]",
      "text/plain": [
       "<Figure size 640x480 with 1 Axes>"
      ]
     },
     "metadata": {},
     "output_type": "display_data"
    }
   ],
   "source": [
    "# Выводим соотношение timestamp_ratio к успеваемости: явной связи не видно\n",
    "sns.regplot(data = corr_look, x = 'timestamp_ratio', y = 'cor_ratio', color = 'brown')"
   ]
  },
  {
   "cell_type": "code",
   "execution_count": 151,
   "metadata": {},
   "outputs": [
    {
     "data": {
      "text/plain": [
       "<AxesSubplot: xlabel='elapsed_time_ratio', ylabel='cor_ratio'>"
      ]
     },
     "execution_count": 151,
     "metadata": {},
     "output_type": "execute_result"
    },
    {
     "data": {
      "image/png": "[encoded data removed]",
      "text/plain": [
       "<Figure size 640x480 with 1 Axes>"
      ]
     },
     "metadata": {},
     "output_type": "display_data"
    }
   ],
   "source": [
    "# Есть небольшая связь между elapsed_time_ratio и успеваемостью\n",
    "sns.regplot(data = corr_look, x = 'elapsed_time_ratio', y = 'cor_ratio', color = 'green')"
   ]
  },
  {
   "cell_type": "markdown",
   "metadata": {},
   "source": [
    "## Подведем краткий итог, на успеваемость студентов влияют следующие характеристики:\n",
    "- количество ответов студентов, большее медианного значения количества ответов, равного 55\n",
    "- типа контента (вопрос или лекция) - очень слабо\n",
    "- соотношения количества правильных ответов и среднего времени ответа на каждый вопрос к общему количеству ответов студентов - слабо\n"
   ]
  }
 ],
 "metadata": {
  "kernelspec": {
   "display_name": "Python 3.10.7 64-bit",
   "language": "python",
   "name": "python3"
  },
  "language_info": {
   "codemirror_mode": {
    "name": "ipython",
    "version": 3
   },
   "file_extension": ".py",
   "mimetype": "text/x-python",
   "name": "python",
   "nbconvert_exporter": "python",
   "pygments_lexer": "ipython3",
   "version": "3.10.7"
  },
  "orig_nbformat": 4,
  "vscode": {
   "interpreter": {
    "hash": "ef92eef4bc154171ec77989e5abcf9df02033ca08b75fdbd96be06e1268a15d7"
   }
  }
 },
 "nbformat": 4,
 "nbformat_minor": 2
}
